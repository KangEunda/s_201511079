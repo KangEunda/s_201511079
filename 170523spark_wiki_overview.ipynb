{
 "cells": [
  {
   "cell_type": "code",
   "execution_count": 3,
   "metadata": {
    "collapsed": false
   },
   "outputs": [
    {
     "name": "stdout",
     "output_type": "stream",
     "text": [
      "Writing src/ds_spark_wiki_overview.py\n"
     ]
    }
   ],
   "source": [
    "%%writefile src/ds_spark_wiki_overview.py\n",
    "import os\n",
    "import sys \n",
    "import matplotlib.pyplot as plt\n",
    "\n",
    "os.environ[\"SPARK_HOME\"]=\"C:\\\\Users\\\\Eunda\\\\code\\\\s_201511079\\\\spark-2.0.0-bin-hadoop2.6\"\n",
    "os.environ[\"PYLIB\"]=os.path.join(os.environ[\"SPARK_HOME\"],'python','lib')\n",
    "sys.path.insert(0,os.path.join(os.environ[\"PYLIB\"],'py4j-0.10.1-src.zip'))\n",
    "sys.path.insert(0,os.path.join(os.environ[\"PYLIB\"],'pyspark.zip'))\n",
    "\n",
    "import pyspark\n",
    "myConf      = pyspark.SparkConf() \n",
    "spark = pyspark.sql.SparkSession.builder.master(\"local\").appName(\"myApp\").config(conf=myConf).config('spark.sql.warehouse.dir','file:///C:/Users/Eunda/code/s_201511079/data').getOrCreate()\n",
    "filepath    = os.path.join('data','wiki.txt') \n",
    "myRdd         = spark.sparkContext.textFile(filepath) \n",
    "wc2         = myRdd.flatMap(lambda x:x.split()).map(lambda x:(x,1)).reduceByKey(lambda x,y:x+y).map(lambda x:(x[1],x[0])).sortByKey(False).take(30) \n",
    "count       = map(lambda x: x[0],wc2) \n",
    "word        = map(lambda x: x[1],wc2) \n",
    "plt.barh(range(len(count)),count,color='blue') \n",
    "plt.yticks(range(len(count)), word) \n",
    "plt.show() "
   ]
  }
 ],
 "metadata": {
  "kernelspec": {
   "display_name": "Python 2",
   "language": "python",
   "name": "python2"
  },
  "language_info": {
   "codemirror_mode": {
    "name": "ipython",
    "version": 2
   },
   "file_extension": ".py",
   "mimetype": "text/x-python",
   "name": "python",
   "nbconvert_exporter": "python",
   "pygments_lexer": "ipython2",
   "version": "2.7.13"
  }
 },
 "nbformat": 4,
 "nbformat_minor": 2
}
