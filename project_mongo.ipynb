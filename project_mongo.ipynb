{
 "cells": [
  {
   "cell_type": "code",
   "execution_count": 81,
   "metadata": {
    "collapsed": false,
    "scrolled": false
   },
   "outputs": [
    {
     "name": "stdout",
     "output_type": "stream",
     "text": [
      "<요일별 택시 최대 하차 시간 및 횟수 at 상명대>\n",
      "{u'ListTaxiDrivingDataset': {u'row': [{u'CNT_OFF': 7.0, u'Y_PART': u'37.6009219^37.6009633^37.6010298^37.6010963^37.6011863^37.6012514^37.6013097^', u'DEST': u'', u'X_PART': u'126.9567299^126.9566182^126.9564559^126.9562813^126.9560727^126.9559628^126.9558629^', u'CNT_EMP': 18.0, u'LINK_ID': u'T_160735', u'WEATHER': u'-1', u'TIME': u'21', u'CNT_ON': 0.0, u'DAY': u'2'}, {u'CNT_OFF': 0.0, u'Y_PART': u'37.6013097^37.6014264^37.6015762^37.6017929^', u'DEST': u'1141', u'X_PART': u'126.9558629^126.9556630^126.9554132^126.9550507^', u'CNT_EMP': 0.0, u'LINK_ID': u'T_160736', u'WEATHER': u'-1', u'TIME': u'21', u'CNT_ON': 1.0, u'DAY': u'2'}, {u'CNT_OFF': 248.0, u'Y_PART': u'37.6013097^37.6014264^37.6015762^37.6017929^', u'DEST': u'', u'X_PART': u'126.9558629^126.9556630^126.9554132^126.9550507^', u'CNT_EMP': 122.0, u'LINK_ID': u'T_160736', u'WEATHER': u'-1', u'TIME': u'21', u'CNT_ON': 0.0, u'DAY': u'2'}, {u'CNT_OFF': 0.0, u'Y_PART': u'37.6017071^37.6014904^37.6013403^37.6012183^', u'DEST': u'1111', u'X_PART': u'126.9549993^126.9553618^126.9556120^126.9558212^', u'CNT_EMP': 0.0, u'LINK_ID': u'T_160737', u'WEATHER': u'-1', u'TIME': u'21', u'CNT_ON': 1.0, u'DAY': u'2'}, {u'CNT_OFF': 0.0, u'Y_PART': u'37.6017071^37.6014904^37.6013403^37.6012183^', u'DEST': u'1154', u'X_PART': u'126.9549993^126.9553618^126.9556120^126.9558212^', u'CNT_EMP': 0.0, u'LINK_ID': u'T_160737', u'WEATHER': u'-1', u'TIME': u'21', u'CNT_ON': 1.0, u'DAY': u'2'}, {u'CNT_OFF': 0.0, u'Y_PART': u'37.6017071^37.6014904^37.6013403^37.6012183^', u'DEST': u'1165', u'X_PART': u'126.9549993^126.9553618^126.9556120^126.9558212^', u'CNT_EMP': 0.0, u'LINK_ID': u'T_160737', u'WEATHER': u'-1', u'TIME': u'21', u'CNT_ON': 1.0, u'DAY': u'2'}, {u'CNT_OFF': 15.0, u'Y_PART': u'37.6017071^37.6014904^37.6013403^37.6012183^', u'DEST': u'', u'X_PART': u'126.9549993^126.9553618^126.9556120^126.9558212^', u'CNT_EMP': 470.0, u'LINK_ID': u'T_160737', u'WEATHER': u'-1', u'TIME': u'21', u'CNT_ON': 0.0, u'DAY': u'2'}, {u'CNT_OFF': 0.0, u'Y_PART': u'37.6012183^37.6011652^37.6010970^37.6010037^37.6009368^37.6008701^37.6008281^', u'DEST': u'1111', u'X_PART': u'126.9558212^126.9559122^126.9560273^126.9562437^126.9564191^126.9565818^126.9566951^', u'CNT_EMP': 0.0, u'LINK_ID': u'T_160738', u'WEATHER': u'-1', u'TIME': u'21', u'CNT_ON': 4.0, u'DAY': u'2'}, {u'CNT_OFF': 1.0, u'Y_PART': u'37.6012183^37.6011652^37.6010970^37.6010037^37.6009368^37.6008701^37.6008281^', u'DEST': u'', u'X_PART': u'126.9558212^126.9559122^126.9560273^126.9562437^126.9564191^126.9565818^126.9566951^', u'CNT_EMP': 462.0, u'LINK_ID': u'T_160738', u'WEATHER': u'-1', u'TIME': u'21', u'CNT_ON': 0.0, u'DAY': u'2'}], u'RESULT': {u'MESSAGE': u'\\uc815\\uc0c1 \\ucc98\\ub9ac\\ub418\\uc5c8\\uc2b5\\ub2c8\\ub2e4', u'CODE': u'INFO-000'}, u'list_total_count': 9}}\n",
      "< 271.0 >\n",
      "final 271.0\n",
      "{u'ListTaxiDrivingDataset': {u'row': [{u'CNT_OFF': 0.0, u'Y_PART': u'37.6009219^37.6009633^37.6010298^37.6010963^37.6011863^37.6012514^37.6013097^', u'DEST': u'1111', u'X_PART': u'126.9567299^126.9566182^126.9564559^126.9562813^126.9560727^126.9559628^126.9558629^', u'CNT_EMP': 0.0, u'LINK_ID': u'T_160735', u'WEATHER': u'1', u'TIME': u'21', u'CNT_ON': 1.0, u'DAY': u'2'}, {u'CNT_OFF': 25.0, u'Y_PART': u'37.6009219^37.6009633^37.6010298^37.6010963^37.6011863^37.6012514^37.6013097^', u'DEST': u'', u'X_PART': u'126.9567299^126.9566182^126.9564559^126.9562813^126.9560727^126.9559628^126.9558629^', u'CNT_EMP': 57.0, u'LINK_ID': u'T_160735', u'WEATHER': u'1', u'TIME': u'21', u'CNT_ON': 0.0, u'DAY': u'2'}, {u'CNT_OFF': 0.0, u'Y_PART': u'37.6013097^37.6014264^37.6015762^37.6017929^', u'DEST': u'1111', u'X_PART': u'126.9558629^126.9556630^126.9554132^126.9550507^', u'CNT_EMP': 0.0, u'LINK_ID': u'T_160736', u'WEATHER': u'1', u'TIME': u'21', u'CNT_ON': 1.0, u'DAY': u'2'}, {u'CNT_OFF': 0.0, u'Y_PART': u'37.6013097^37.6014264^37.6015762^37.6017929^', u'DEST': u'1117', u'X_PART': u'126.9558629^126.9556630^126.9554132^126.9550507^', u'CNT_EMP': 0.0, u'LINK_ID': u'T_160736', u'WEATHER': u'1', u'TIME': u'21', u'CNT_ON': 1.0, u'DAY': u'2'}, {u'CNT_OFF': 0.0, u'Y_PART': u'37.6013097^37.6014264^37.6015762^37.6017929^', u'DEST': u'1123', u'X_PART': u'126.9558629^126.9556630^126.9554132^126.9550507^', u'CNT_EMP': 0.0, u'LINK_ID': u'T_160736', u'WEATHER': u'1', u'TIME': u'21', u'CNT_ON': 1.0, u'DAY': u'2'}, {u'CNT_OFF': 0.0, u'Y_PART': u'37.6013097^37.6014264^37.6015762^37.6017929^', u'DEST': u'1144', u'X_PART': u'126.9558629^126.9556630^126.9554132^126.9550507^', u'CNT_EMP': 0.0, u'LINK_ID': u'T_160736', u'WEATHER': u'1', u'TIME': u'21', u'CNT_ON': 1.0, u'DAY': u'2'}, {u'CNT_OFF': 724.0, u'Y_PART': u'37.6013097^37.6014264^37.6015762^37.6017929^', u'DEST': u'', u'X_PART': u'126.9558629^126.9556630^126.9554132^126.9550507^', u'CNT_EMP': 336.0, u'LINK_ID': u'T_160736', u'WEATHER': u'1', u'TIME': u'21', u'CNT_ON': 0.0, u'DAY': u'2'}, {u'CNT_OFF': 0.0, u'Y_PART': u'37.6017071^37.6014904^37.6013403^37.6012183^', u'DEST': u'1111', u'X_PART': u'126.9549993^126.9553618^126.9556120^126.9558212^', u'CNT_EMP': 0.0, u'LINK_ID': u'T_160737', u'WEATHER': u'1', u'TIME': u'21', u'CNT_ON': 7.0, u'DAY': u'2'}, {u'CNT_OFF': 35.0, u'Y_PART': u'37.6017071^37.6014904^37.6013403^37.6012183^', u'DEST': u'', u'X_PART': u'126.9549993^126.9553618^126.9556120^126.9558212^', u'CNT_EMP': 1314.0, u'LINK_ID': u'T_160737', u'WEATHER': u'1', u'TIME': u'21', u'CNT_ON': 0.0, u'DAY': u'2'}, {u'CNT_OFF': 0.0, u'Y_PART': u'37.6012183^37.6011652^37.6010970^37.6010037^37.6009368^37.6008701^37.6008281^', u'DEST': u'1111', u'X_PART': u'126.9558212^126.9559122^126.9560273^126.9562437^126.9564191^126.9565818^126.9566951^', u'CNT_EMP': 0.0, u'LINK_ID': u'T_160738', u'WEATHER': u'1', u'TIME': u'21', u'CNT_ON': 5.0, u'DAY': u'2'}, {u'CNT_OFF': 0.0, u'Y_PART': u'37.6012183^37.6011652^37.6010970^37.6010037^37.6009368^37.6008701^37.6008281^', u'DEST': u'1114', u'X_PART': u'126.9558212^126.9559122^126.9560273^126.9562437^126.9564191^126.9565818^126.9566951^', u'CNT_EMP': 0.0, u'LINK_ID': u'T_160738', u'WEATHER': u'1', u'TIME': u'21', u'CNT_ON': 1.0, u'DAY': u'2'}, {u'CNT_OFF': 0.0, u'Y_PART': u'37.6012183^37.6011652^37.6010970^37.6010037^37.6009368^37.6008701^37.6008281^', u'DEST': u'1141', u'X_PART': u'126.9558212^126.9559122^126.9560273^126.9562437^126.9564191^126.9565818^126.9566951^', u'CNT_EMP': 0.0, u'LINK_ID': u'T_160738', u'WEATHER': u'1', u'TIME': u'21', u'CNT_ON': 2.0, u'DAY': u'2'}, {u'CNT_OFF': 2.0, u'Y_PART': u'37.6012183^37.6011652^37.6010970^37.6010037^37.6009368^37.6008701^37.6008281^', u'DEST': u'', u'X_PART': u'126.9558212^126.9559122^126.9560273^126.9562437^126.9564191^126.9565818^126.9566951^', u'CNT_EMP': 1318.0, u'LINK_ID': u'T_160738', u'WEATHER': u'1', u'TIME': u'21', u'CNT_ON': 0.0, u'DAY': u'2'}], u'RESULT': {u'MESSAGE': u'\\uc815\\uc0c1 \\ucc98\\ub9ac\\ub418\\uc5c8\\uc2b5\\ub2c8\\ub2e4', u'CODE': u'INFO-000'}, u'list_total_count': 13}}\n",
      "< 786.0 >\n",
      "final 1057.0\n",
      "{u'ListTaxiDrivingDataset': {u'row': [{u'CNT_OFF': 1.0, u'Y_PART': u'37.6009219^37.6009633^37.6010298^37.6010963^37.6011863^37.6012514^37.6013097^', u'DEST': u'', u'X_PART': u'126.9567299^126.9566182^126.9564559^126.9562813^126.9560727^126.9559628^126.9558629^', u'CNT_EMP': 2.0, u'LINK_ID': u'T_160735', u'WEATHER': u'2', u'TIME': u'21', u'CNT_ON': 0.0, u'DAY': u'2'}, {u'CNT_OFF': 14.0, u'Y_PART': u'37.6013097^37.6014264^37.6015762^37.6017929^', u'DEST': u'', u'X_PART': u'126.9558629^126.9556630^126.9554132^126.9550507^', u'CNT_EMP': 8.0, u'LINK_ID': u'T_160736', u'WEATHER': u'2', u'TIME': u'21', u'CNT_ON': 0.0, u'DAY': u'2'}, {u'CNT_OFF': 0.0, u'Y_PART': u'37.6017071^37.6014904^37.6013403^37.6012183^', u'DEST': u'', u'X_PART': u'126.9549993^126.9553618^126.9556120^126.9558212^', u'CNT_EMP': 32.0, u'LINK_ID': u'T_160737', u'WEATHER': u'2', u'TIME': u'21', u'CNT_ON': 0.0, u'DAY': u'2'}, {u'CNT_OFF': 0.0, u'Y_PART': u'37.6012183^37.6011652^37.6010970^37.6010037^37.6009368^37.6008701^37.6008281^', u'DEST': u'', u'X_PART': u'126.9558212^126.9559122^126.9560273^126.9562437^126.9564191^126.9565818^126.9566951^', u'CNT_EMP': 33.0, u'LINK_ID': u'T_160738', u'WEATHER': u'2', u'TIME': u'21', u'CNT_ON': 0.0, u'DAY': u'2'}], u'RESULT': {u'MESSAGE': u'\\uc815\\uc0c1 \\ucc98\\ub9ac\\ub418\\uc5c8\\uc2b5\\ub2c8\\ub2e4', u'CODE': u'INFO-000'}, u'list_total_count': 4}}\n",
      "< 15.0 >\n",
      "final 1072.0\n",
      "{u'RESULT': {u'MESSAGE': u'\\ud574\\ub2f9\\ud558\\ub294 \\ub370\\uc774\\ud130\\uac00 \\uc5c6\\uc2b5\\ub2c8\\ub2e4.', u'CODE': u'INFO-200'}}\n",
      "not data\n"
     ]
    }
   ],
   "source": [
    "# coding: utf-8\n",
    "import os\n",
    "import src.mylib\n",
    "import urlparse\n",
    "import requests\n",
    "import re\n",
    "import json\n",
    "\n",
    "\n",
    "print u'<요일별 택시 최대 하차 시간 및 횟수 at 상명대>'\n",
    "\n",
    "keyPath=os.path.join(os.getcwd(),'src','key.properties')\n",
    "key=src.mylib.getKey(keyPath)\n",
    "KEY=str(key['dataseoul'])\n",
    "TYPE='json'\n",
    "SERVICE='ListTaxiDrivingDataset'\n",
    "START_INDEX=str(1)\n",
    "END_INDEX=str(100)\n",
    "X_PART=str(126.954904)\n",
    "Y_PART=str(37.601767)\n",
    "DAY = str(2)\n",
    "TIME=str(21)\n",
    "\n",
    "#print jd.keys()\n",
    "\n",
    "serviceName = [SERVICE]\n",
    "\n",
    "final=0\n",
    "for i in (-1,1,2,3):\n",
    "\n",
    "    WEATHER=str(i)\n",
    "\n",
    "    _url = 'http://openAPI.seoul.go.kr:8088/'\n",
    "    params=KEY+'/'+TYPE+'/'+SERVICE+'/'+START_INDEX+'/'+END_INDEX+'/'+X_PART+'/'+Y_PART+'/'+DAY+'/'+TIME+'/'+WEATHER\n",
    "    url=urlparse.urljoin(_url, params)\n",
    "\n",
    "    data=requests.get(url).text\n",
    "#print data\n",
    "\n",
    "    jd=json.loads(data)\n",
    "    print jd\n",
    "#print'~'\n",
    "#print jd['ListTaxiDrivingDataset']['row'][0]\n",
    "    if serviceName != jd.keys():\n",
    "        print'not data'\n",
    "        continue\n",
    "    else:\n",
    "        \n",
    "        sum=0\n",
    "        for item in jd['ListTaxiDrivingDataset']['row']:\n",
    "            #print item.keys()\n",
    "            #print item\n",
    "            for i in item.keys():\n",
    "                if i == 'CNT_OFF':\n",
    "                    #print '-------'\n",
    "                    offNum=item.values()[0]\n",
    "                    #print offNum\n",
    "                    sum += offNum\n",
    "        final += sum\n",
    "        print '<',sum,'>'\n",
    "        print \"final\",final\n",
    "\n",
    "\n",
    "\n",
    "\n",
    "\n",
    "\n"
   ]
  },
  {
   "cell_type": "code",
   "execution_count": 10,
   "metadata": {
    "collapsed": false
   },
   "outputs": [
    {
     "name": "stdout",
     "output_type": "stream",
     "text": [
      "['ListTaxiDrivingDataset']\n"
     ]
    }
   ],
   "source": [
    "serviceName = [SERVICE]\n",
    "print serviceName"
   ]
  },
  {
   "cell_type": "code",
   "execution_count": 23,
   "metadata": {
    "collapsed": false
   },
   "outputs": [
    {
     "name": "stdout",
     "output_type": "stream",
     "text": [
      "<요일별 택시 최대 하차 시간 및 횟수 at 상명대>\n",
      "['ListTaxiDrivingDataset']\n",
      "[u'RESULT']\n",
      "notsame\n"
     ]
    }
   ],
   "source": [
    "# coding: utf-8\n",
    "import os\n",
    "import src.mylib\n",
    "import urlparse\n",
    "import requests\n",
    "import re\n",
    "import json\n",
    "\n",
    "\n",
    "print u'<요일별 택시 최대 하차 시간 및 횟수 at 상명대>'\n",
    "\n",
    "keyPath=os.path.join(os.getcwd(),'src','key.properties')\n",
    "key=src.mylib.getKey(keyPath)\n",
    "KEY=str(key['dataseoul'])\n",
    "TYPE='json'\n",
    "SERVICE='ListTaxiDrivingDataset'\n",
    "START_INDEX=str(1)\n",
    "END_INDEX=str(100)\n",
    "X_PART=str(126.954904)\n",
    "Y_PART=str(37.601767)\n",
    "DAY = str(2)\n",
    "TIME=str(21)\n",
    "WEATHER=str(3)\n",
    "\n",
    "serviceName = [SERVICE]\n",
    "print serviceName\n",
    "\n",
    "_url = 'http://openAPI.seoul.go.kr:8088/'\n",
    "params=KEY+'/'+TYPE+'/'+SERVICE+'/'+START_INDEX+'/'+END_INDEX+'/'+X_PART+'/'+Y_PART+'/'+DAY+'/'+TIME+'/'+WEATHER\n",
    "url=urlparse.urljoin(_url, params)\n",
    "\n",
    "data=requests.get(url).text\n",
    "#print data\n",
    "\n",
    "jd=json.loads(data)\n",
    "#print jd\n",
    "#print'~'\n",
    "#print jd['ListTaxiDrivingDataset']['row'][0]\n",
    "print jd.keys()\n",
    "type(jd.keys())\n",
    "if serviceName != jd.keys():\n",
    "    print 'notsame'\n",
    "\n",
    "\n"
   ]
  },
  {
   "cell_type": "code",
   "execution_count": 15,
   "metadata": {
    "collapsed": false,
    "scrolled": true
   },
   "outputs": [
    {
     "name": "stdout",
     "output_type": "stream",
     "text": [
      "[u'ListTaxiDrivingDataset']\n"
     ]
    },
    {
     "data": {
      "text/plain": [
       "str"
      ]
     },
     "execution_count": 15,
     "metadata": {},
     "output_type": "execute_result"
    }
   ],
   "source": [
    "print str(jd.keys())\n",
    "type(str(jd.keys()))\n"
   ]
  },
  {
   "cell_type": "code",
   "execution_count": 88,
   "metadata": {
    "collapsed": false,
    "scrolled": true
   },
   "outputs": [
    {
     "name": "stdout",
     "output_type": "stream",
     "text": [
      "{u'ListTaxiDrivingDataset': {u'row': [{u'CNT_OFF': 5.0, u'Y_PART': u'37.6009219^37.6009633^37.6010298^37.6010963^37.6011863^37.6012514^37.6013097^', u'DEST': u'', u'X_PART': u'126.9567299^126.9566182^126.9564559^126.9562813^126.9560727^126.9559628^126.9558629^', u'CNT_EMP': 20.0, u'LINK_ID': u'T_160735', u'WEATHER': u'-1', u'TIME': u'17', u'CNT_ON': 0.0, u'DAY': u'2'}, {u'CNT_OFF': 142.0, u'Y_PART': u'37.6013097^37.6014264^37.6015762^37.6017929^', u'DEST': u'', u'X_PART': u'126.9558629^126.9556630^126.9554132^126.9550507^', u'CNT_EMP': 68.0, u'LINK_ID': u'T_160736', u'WEATHER': u'-1', u'TIME': u'17', u'CNT_ON': 0.0, u'DAY': u'2'}, {u'CNT_OFF': 0.0, u'Y_PART': u'37.6017071^37.6014904^37.6013403^37.6012183^', u'DEST': u'1111', u'X_PART': u'126.9549993^126.9553618^126.9556120^126.9558212^', u'CNT_EMP': 0.0, u'LINK_ID': u'T_160737', u'WEATHER': u'-1', u'TIME': u'17', u'CNT_ON': 2.0, u'DAY': u'2'}, {u'CNT_OFF': 4.0, u'Y_PART': u'37.6017071^37.6014904^37.6013403^37.6012183^', u'DEST': u'', u'X_PART': u'126.9549993^126.9553618^126.9556120^126.9558212^', u'CNT_EMP': 401.0, u'LINK_ID': u'T_160737', u'WEATHER': u'-1', u'TIME': u'17', u'CNT_ON': 0.0, u'DAY': u'2'}, {u'CNT_OFF': 0.0, u'Y_PART': u'37.6012183^37.6011652^37.6010970^37.6010037^37.6009368^37.6008701^37.6008281^', u'DEST': u'1111', u'X_PART': u'126.9558212^126.9559122^126.9560273^126.9562437^126.9564191^126.9565818^126.9566951^', u'CNT_EMP': 0.0, u'LINK_ID': u'T_160738', u'WEATHER': u'-1', u'TIME': u'17', u'CNT_ON': 1.0, u'DAY': u'2'}, {u'CNT_OFF': 0.0, u'Y_PART': u'37.6012183^37.6011652^37.6010970^37.6010037^37.6009368^37.6008701^37.6008281^', u'DEST': u'1114', u'X_PART': u'126.9558212^126.9559122^126.9560273^126.9562437^126.9564191^126.9565818^126.9566951^', u'CNT_EMP': 0.0, u'LINK_ID': u'T_160738', u'WEATHER': u'-1', u'TIME': u'17', u'CNT_ON': 4.0, u'DAY': u'2'}, {u'CNT_OFF': 0.0, u'Y_PART': u'37.6012183^37.6011652^37.6010970^37.6010037^37.6009368^37.6008701^37.6008281^', u'DEST': u'1117', u'X_PART': u'126.9558212^126.9559122^126.9560273^126.9562437^126.9564191^126.9565818^126.9566951^', u'CNT_EMP': 0.0, u'LINK_ID': u'T_160738', u'WEATHER': u'-1', u'TIME': u'17', u'CNT_ON': 2.0, u'DAY': u'2'}, {u'CNT_OFF': 0.0, u'Y_PART': u'37.6012183^37.6011652^37.6010970^37.6010037^37.6009368^37.6008701^37.6008281^', u'DEST': u'1168', u'X_PART': u'126.9558212^126.9559122^126.9560273^126.9562437^126.9564191^126.9565818^126.9566951^', u'CNT_EMP': 0.0, u'LINK_ID': u'T_160738', u'WEATHER': u'-1', u'TIME': u'17', u'CNT_ON': 1.0, u'DAY': u'2'}, {u'CNT_OFF': 2.0, u'Y_PART': u'37.6012183^37.6011652^37.6010970^37.6010037^37.6009368^37.6008701^37.6008281^', u'DEST': u'', u'X_PART': u'126.9558212^126.9559122^126.9560273^126.9562437^126.9564191^126.9565818^126.9566951^', u'CNT_EMP': 419.0, u'LINK_ID': u'T_160738', u'WEATHER': u'-1', u'TIME': u'17', u'CNT_ON': 0.0, u'DAY': u'2'}], u'RESULT': {u'MESSAGE': u'\\uc815\\uc0c1 \\ucc98\\ub9ac\\ub418\\uc5c8\\uc2b5\\ub2c8\\ub2e4', u'CODE': u'INFO-000'}, u'list_total_count': 9}}\n"
     ]
    },
    {
     "ename": "DuplicateKeyError",
     "evalue": "E11000 duplicate key error collection: ds_open_subwayPassengersDb.db_open_subwayTable index: _id_ dup key: { : ObjectId('593c56245cf84b522094706e') }",
     "output_type": "error",
     "traceback": [
      "\u001b[0;31m---------------------------------------------------------------------------\u001b[0m",
      "\u001b[0;31mDuplicateKeyError\u001b[0m                         Traceback (most recent call last)",
      "\u001b[0;32m<ipython-input-88-e1e0416e4ef4>\u001b[0m in \u001b[0;36m<module>\u001b[0;34m()\u001b[0m\n\u001b[1;32m     72\u001b[0m \u001b[1;33m\u001b[0m\u001b[0m\n\u001b[1;32m     73\u001b[0m \u001b[1;32mif\u001b[0m \u001b[0m__name__\u001b[0m \u001b[1;33m==\u001b[0m \u001b[1;34m\"__main__\"\u001b[0m\u001b[1;33m:\u001b[0m\u001b[1;33m\u001b[0m\u001b[0m\n\u001b[0;32m---> 74\u001b[0;31m     \u001b[0mdoIt\u001b[0m\u001b[1;33m(\u001b[0m\u001b[1;33m)\u001b[0m\u001b[1;33m\u001b[0m\u001b[0m\n\u001b[0m\u001b[1;32m     75\u001b[0m \u001b[1;33m\u001b[0m\u001b[0m\n\u001b[1;32m     76\u001b[0m \u001b[1;33m\u001b[0m\u001b[0m\n",
      "\u001b[0;32m<ipython-input-88-e1e0416e4ef4>\u001b[0m in \u001b[0;36mdoIt\u001b[0;34m()\u001b[0m\n\u001b[1;32m     66\u001b[0m                 \u001b[1;32mprint\u001b[0m \u001b[0mjd\u001b[0m\u001b[1;33m\u001b[0m\u001b[0m\n\u001b[1;32m     67\u001b[0m                 \u001b[0msaveJson\u001b[0m\u001b[1;33m(\u001b[0m\u001b[0m_jfname\u001b[0m\u001b[1;33m,\u001b[0m\u001b[0mjd\u001b[0m\u001b[1;33m)\u001b[0m\u001b[1;33m\u001b[0m\u001b[0m\n\u001b[0;32m---> 68\u001b[0;31m                 \u001b[0msaveDB\u001b[0m\u001b[1;33m(\u001b[0m\u001b[0mjd\u001b[0m\u001b[1;33m)\u001b[0m\u001b[1;33m\u001b[0m\u001b[0m\n\u001b[0m\u001b[1;32m     69\u001b[0m \u001b[1;33m\u001b[0m\u001b[0m\n\u001b[1;32m     70\u001b[0m         \u001b[0mday\u001b[0m\u001b[1;33m+=\u001b[0m\u001b[1;36m1\u001b[0m\u001b[1;33m\u001b[0m\u001b[0m\n",
      "\u001b[0;32m<ipython-input-83-940ed9c424e7>\u001b[0m in \u001b[0;36msaveDB\u001b[0;34m(_data)\u001b[0m\n\u001b[1;32m     33\u001b[0m \u001b[1;33m\u001b[0m\u001b[0m\n\u001b[1;32m     34\u001b[0m \u001b[1;32mdef\u001b[0m \u001b[0msaveDB\u001b[0m\u001b[1;33m(\u001b[0m\u001b[0m_data\u001b[0m\u001b[1;33m)\u001b[0m\u001b[1;33m:\u001b[0m\u001b[1;33m\u001b[0m\u001b[0m\n\u001b[0;32m---> 35\u001b[0;31m     \u001b[0m_table\u001b[0m\u001b[1;33m.\u001b[0m\u001b[0minsert_one\u001b[0m\u001b[1;33m(\u001b[0m\u001b[0m_data\u001b[0m\u001b[1;33m)\u001b[0m\u001b[1;33m\u001b[0m\u001b[0m\n\u001b[0m\u001b[1;32m     36\u001b[0m \u001b[1;33m\u001b[0m\u001b[0m\n\u001b[1;32m     37\u001b[0m \u001b[1;32mdef\u001b[0m \u001b[0mreadDB\u001b[0m\u001b[1;33m(\u001b[0m\u001b[1;33m)\u001b[0m\u001b[1;33m:\u001b[0m\u001b[1;33m\u001b[0m\u001b[0m\n",
      "\u001b[0;32mC:\\Users\\Eunda\\Anaconda2\\lib\\site-packages\\pymongo\\collection.pyc\u001b[0m in \u001b[0;36minsert_one\u001b[0;34m(self, document, bypass_document_validation)\u001b[0m\n\u001b[1;32m    655\u001b[0m             return InsertOneResult(\n\u001b[1;32m    656\u001b[0m                 self._insert(sock_info, document,\n\u001b[0;32m--> 657\u001b[0;31m                              bypass_doc_val=bypass_document_validation),\n\u001b[0m\u001b[1;32m    658\u001b[0m                 self.write_concern.acknowledged)\n\u001b[1;32m    659\u001b[0m \u001b[1;33m\u001b[0m\u001b[0m\n",
      "\u001b[0;32mC:\\Users\\Eunda\\Anaconda2\\lib\\site-packages\\pymongo\\collection.pyc\u001b[0m in \u001b[0;36m_insert\u001b[0;34m(self, sock_info, docs, ordered, check_keys, manipulate, write_concern, op_id, bypass_doc_val)\u001b[0m\n\u001b[1;32m    560\u001b[0m             return self._insert_one(\n\u001b[1;32m    561\u001b[0m                 \u001b[0msock_info\u001b[0m\u001b[1;33m,\u001b[0m \u001b[0mdocs\u001b[0m\u001b[1;33m,\u001b[0m \u001b[0mordered\u001b[0m\u001b[1;33m,\u001b[0m\u001b[1;33m\u001b[0m\u001b[0m\n\u001b[0;32m--> 562\u001b[0;31m                 check_keys, manipulate, write_concern, op_id, bypass_doc_val)\n\u001b[0m\u001b[1;32m    563\u001b[0m \u001b[1;33m\u001b[0m\u001b[0m\n\u001b[1;32m    564\u001b[0m         \u001b[0mids\u001b[0m \u001b[1;33m=\u001b[0m \u001b[1;33m[\u001b[0m\u001b[1;33m]\u001b[0m\u001b[1;33m\u001b[0m\u001b[0m\n",
      "\u001b[0;32mC:\\Users\\Eunda\\Anaconda2\\lib\\site-packages\\pymongo\\collection.pyc\u001b[0m in \u001b[0;36m_insert_one\u001b[0;34m(self, sock_info, doc, ordered, check_keys, manipulate, write_concern, op_id, bypass_doc_val)\u001b[0m\n\u001b[1;32m    542\u001b[0m                 \u001b[0mcodec_options\u001b[0m\u001b[1;33m=\u001b[0m\u001b[0mself\u001b[0m\u001b[1;33m.\u001b[0m\u001b[0m__write_response_codec_options\u001b[0m\u001b[1;33m,\u001b[0m\u001b[1;33m\u001b[0m\u001b[0m\n\u001b[1;32m    543\u001b[0m                 check_keys=check_keys)\n\u001b[0;32m--> 544\u001b[0;31m             \u001b[0m_check_write_command_response\u001b[0m\u001b[1;33m(\u001b[0m\u001b[1;33m[\u001b[0m\u001b[1;33m(\u001b[0m\u001b[1;36m0\u001b[0m\u001b[1;33m,\u001b[0m \u001b[0mresult\u001b[0m\u001b[1;33m)\u001b[0m\u001b[1;33m]\u001b[0m\u001b[1;33m)\u001b[0m\u001b[1;33m\u001b[0m\u001b[0m\n\u001b[0m\u001b[1;32m    545\u001b[0m         \u001b[1;32melse\u001b[0m\u001b[1;33m:\u001b[0m\u001b[1;33m\u001b[0m\u001b[0m\n\u001b[1;32m    546\u001b[0m             \u001b[1;31m# Legacy OP_INSERT.\u001b[0m\u001b[1;33m\u001b[0m\u001b[1;33m\u001b[0m\u001b[0m\n",
      "\u001b[0;32mC:\\Users\\Eunda\\Anaconda2\\lib\\site-packages\\pymongo\\helpers.pyc\u001b[0m in \u001b[0;36m_check_write_command_response\u001b[0;34m(results)\u001b[0m\n\u001b[1;32m    312\u001b[0m             \u001b[0merror\u001b[0m\u001b[1;33m[\u001b[0m\u001b[1;34m\"index\"\u001b[0m\u001b[1;33m]\u001b[0m \u001b[1;33m+=\u001b[0m \u001b[0moffset\u001b[0m\u001b[1;33m\u001b[0m\u001b[0m\n\u001b[1;32m    313\u001b[0m             \u001b[1;32mif\u001b[0m \u001b[0merror\u001b[0m\u001b[1;33m.\u001b[0m\u001b[0mget\u001b[0m\u001b[1;33m(\u001b[0m\u001b[1;34m\"code\"\u001b[0m\u001b[1;33m)\u001b[0m \u001b[1;33m==\u001b[0m \u001b[1;36m11000\u001b[0m\u001b[1;33m:\u001b[0m\u001b[1;33m\u001b[0m\u001b[0m\n\u001b[0;32m--> 314\u001b[0;31m                 \u001b[1;32mraise\u001b[0m \u001b[0mDuplicateKeyError\u001b[0m\u001b[1;33m(\u001b[0m\u001b[0merror\u001b[0m\u001b[1;33m.\u001b[0m\u001b[0mget\u001b[0m\u001b[1;33m(\u001b[0m\u001b[1;34m\"errmsg\"\u001b[0m\u001b[1;33m)\u001b[0m\u001b[1;33m,\u001b[0m \u001b[1;36m11000\u001b[0m\u001b[1;33m,\u001b[0m \u001b[0merror\u001b[0m\u001b[1;33m)\u001b[0m\u001b[1;33m\u001b[0m\u001b[0m\n\u001b[0m\u001b[1;32m    315\u001b[0m             \u001b[1;32mraise\u001b[0m \u001b[0mWriteError\u001b[0m\u001b[1;33m(\u001b[0m\u001b[0merror\u001b[0m\u001b[1;33m.\u001b[0m\u001b[0mget\u001b[0m\u001b[1;33m(\u001b[0m\u001b[1;34m\"errmsg\"\u001b[0m\u001b[1;33m)\u001b[0m\u001b[1;33m,\u001b[0m \u001b[0merror\u001b[0m\u001b[1;33m.\u001b[0m\u001b[0mget\u001b[0m\u001b[1;33m(\u001b[0m\u001b[1;34m\"code\"\u001b[0m\u001b[1;33m)\u001b[0m\u001b[1;33m,\u001b[0m \u001b[0merror\u001b[0m\u001b[1;33m)\u001b[0m\u001b[1;33m\u001b[0m\u001b[0m\n\u001b[1;32m    316\u001b[0m         \u001b[1;32melse\u001b[0m\u001b[1;33m:\u001b[0m\u001b[1;33m\u001b[0m\u001b[0m\n",
      "\u001b[0;31mDuplicateKeyError\u001b[0m: E11000 duplicate key error collection: ds_open_subwayPassengersDb.db_open_subwayTable index: _id_ dup key: { : ObjectId('593c56245cf84b522094706e') }"
     ]
    }
   ],
   "source": [
    "# coding: utf-8\n",
    "import os\n",
    "import io\n",
    "import src.mylib\n",
    "import urlparse\n",
    "import requests\n",
    "import re\n",
    "import json\n",
    "import pymongo\n",
    "from pymongo import MongoClient\n",
    "\n",
    "\n",
    "\n",
    "#print jd.keys()\n",
    "\n",
    "serviceName = [SERVICE]\n",
    "\n",
    "Client = MongoClient('localhost:27017')\n",
    "_db=Client['ds_open_subwayPassengersDb'] #db created by mongo\n",
    "_table=_db['db_open_subwayTable'] #collection\n",
    "#db=Client.ds_rest_subwayPassengers\n",
    "\n",
    "def saveJson(_fname,_data):\n",
    "    import io\n",
    "    with io.open(_fname, 'a', encoding='utf8') as json_file:\n",
    "        _table.insert_one(_data)\n",
    "\n",
    "def readDB():\n",
    "    for tweet in _table.find():\n",
    "        print tweet['id'],tweet['text']\n",
    "\n",
    "def saveFile(_fname,_data):\n",
    "    fp=open(_fname,'a')\n",
    "    fp.write(_data+\"\\n\")\n",
    "\n",
    "def doIt():\n",
    "    keyPath=os.path.join(os.getcwd(),'src','key.properties')\n",
    "    key=src.mylib.getKey(keyPath)\n",
    "    KEY=str(key['dataseoul'])\n",
    "    TYPE='json'\n",
    "    SERVICE='ListTaxiDrivingDataset'\n",
    "    START_INDEX=str(1)\n",
    "    END_INDEX=str(100)\n",
    "    X_PART=str(126.954904)\n",
    "    Y_PART=str(37.601767)\n",
    "    \n",
    "    _jfname='src/project_mongo.json'\n",
    "    day=2\n",
    "    while day <= 6:\n",
    "        DAY=str(day)\n",
    "\n",
    "        for time in range(17,41):\n",
    "            TIME=str(time)\n",
    "            final=0\n",
    "            for i in (-1,1,2,3):\n",
    "\n",
    "                WEATHER=str(i)\n",
    "\n",
    "                _url = 'http://openAPI.seoul.go.kr:8088/'\n",
    "                params=KEY+'/'+TYPE+'/'+SERVICE+'/'+START_INDEX+'/'+END_INDEX+'/'+X_PART+'/'+Y_PART+'/'+DAY+'/'+TIME+'/'+WEATHER\n",
    "                url=urlparse.urljoin(_url, params)\n",
    "                data=requests.get(url).text\n",
    "                \n",
    "                #print data\n",
    "\n",
    "                jd=json.loads(data)\n",
    "                print jd\n",
    "                saveJson(_jfname,jd)\n",
    "                saveDB(jd)\n",
    "\n",
    "        day+=1\n",
    "\n",
    "\n",
    "if __name__ == \"__main__\":\n",
    "    doIt()\n",
    "\n",
    "\n"
   ]
  },
  {
   "cell_type": "code",
   "execution_count": 18,
   "metadata": {
    "collapsed": false
   },
   "outputs": [
    {
     "name": "stdout",
     "output_type": "stream",
     "text": [
      "Overwriting src/project/project_mongo.py\n"
     ]
    }
   ],
   "source": [
    "%%writefile src/project/project_mongo.py\n",
    "# coding: utf-8\n",
    "import os\n",
    "import mylib_cmd\n",
    "import urlparse\n",
    "import requests\n",
    "import re\n",
    "import json\n",
    "import io\n",
    "import pymongo\n",
    "from pymongo import MongoClient\n",
    "\n",
    "mydict = dict()\n",
    "client = MongoClient('localhost:27017')\n",
    "db=client.taxiDB\n",
    "p={\"MOST_TAXI_OFF_TIME\":mydict}\n",
    "\n",
    "\n",
    "print u'<요일별 택시 최대 하차 시간 및 횟수 at 상명대>'\n",
    "print '--------------------------------------------------------------------------------------'\n",
    "keyPath=os.path.join(os.getcwd(),'key.properties')\n",
    "key=mylib_cmd.getKey(keyPath)\n",
    "KEY=str(key['dataseoul'])\n",
    "TYPE='xml'\n",
    "SERVICE='ListTaxiDrivingDataset'\n",
    "START_INDEX=str(1)\n",
    "END_INDEX=str(100)\n",
    "X_PART=str(126.954904)\n",
    "Y_PART=str(37.601767)\n",
    "\n",
    "\n",
    "uday=[u'월',u'화',u'수',u'목',u'금']\n",
    "day = 2\n",
    "while day<=6 :\n",
    "    DAY = str(day)\n",
    "    lst=[]\n",
    "    max=0\n",
    "    mydict['day'] = day\n",
    "    for time in range(17,41):\n",
    "        TIME=str(time)\n",
    "        final=0\n",
    "        for w in (-1, 1, 2, 3):\n",
    "            WEATHER=str(w)\n",
    "            params=KEY+'/'+TYPE+'/'+SERVICE+'/'+START_INDEX+'/'+END_INDEX+'/'+X_PART+'/'+Y_PART+'/'+DAY+'/'+TIME+'/'+WEATHER\n",
    "\n",
    "            _url = 'http://openAPI.seoul.go.kr:8088/'\n",
    "            url=urlparse.urljoin(_url, params)\n",
    "\n",
    "            data=requests.get(url).text\n",
    "            p = re.compile('<CNT_OFF>(.+?)</CNT_OFF>')\n",
    "            res=p.findall(data)\n",
    "            sum=0\n",
    "            for item in res:\n",
    "                sum +=int(item)\n",
    "            final += sum \n",
    "        lst.append(final)\n",
    "        if(max < lst[time-17]):\n",
    "            max = lst[time-17]\n",
    "            maxtime=time\n",
    "    if (maxtime%2 == 1):\n",
    "        realtime=maxtime/2\n",
    "        print uday[day-2],u'요일, 최대하차시간은',realtime,u'시 30분부터', realtime+1, u'시까지이며 1년간 총',max,u'대가 하차했습니다.'\n",
    "    else :\n",
    "        realtime=maxtime/2\n",
    "        print uday[day-2],u'요일, 최대하차시간은',realtime,u'시부터', realtime, u'시 30분까지까지이며 1년간 총',max,u'대가 하차했습니다.'\n",
    "\n",
    "    mydict['day']=day\n",
    "    mydict['maxTime']=maxtime\n",
    "    mydict['maxNum']=max\n",
    "    \n",
    "    json_file=open(os.path.join('project_mongo.json'),'w')\n",
    "    json.dump(p,json_file)\n",
    "    json_file.close()\n",
    "    \n",
    "    fp=open(os.path.join('project_mongo.json'),'r')\n",
    "    data.fp.read()\n",
    "    \n",
    "    pjson=json.loads(data)\n",
    "    \n",
    "    db.taxiColletion.insert_one(pjson)\n",
    "    results=db.taxiCollection.find()\n",
    "    print results\n",
    "    day += 1\n",
    "    \n",
    "\n"
   ]
  },
  {
   "cell_type": "code",
   "execution_count": 8,
   "metadata": {
    "collapsed": false
   },
   "outputs": [
    {
     "name": "stdout",
     "output_type": "stream",
     "text": [
      "{'day': 2}\n"
     ]
    }
   ],
   "source": [
    "mydict = dict()\n",
    "mydict['day']=1\n",
    "mydict['day']=2\n",
    "print mydict\n",
    "list = [1,2,3,4]"
   ]
  },
  {
   "cell_type": "code",
   "execution_count": null,
   "metadata": {
    "collapsed": true
   },
   "outputs": [],
   "source": []
  }
 ],
 "metadata": {
  "kernelspec": {
   "display_name": "Python 2",
   "language": "python",
   "name": "python2"
  },
  "language_info": {
   "codemirror_mode": {
    "name": "ipython",
    "version": 2
   },
   "file_extension": ".py",
   "mimetype": "text/x-python",
   "name": "python",
   "nbconvert_exporter": "python",
   "pygments_lexer": "ipython2",
   "version": "2.7.13"
  }
 },
 "nbformat": 4,
 "nbformat_minor": 2
}
