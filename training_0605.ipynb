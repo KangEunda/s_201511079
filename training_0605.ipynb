{
 "cells": [
  {
   "cell_type": "code",
   "execution_count": 2,
   "metadata": {
    "collapsed": false
   },
   "outputs": [
    {
     "name": "stdout",
     "output_type": "stream",
     "text": [
      "hello\n",
      "None\n"
     ]
    }
   ],
   "source": [
    "import src.mylib\n",
    "print src.mylib.sayHello()"
   ]
  },
  {
   "cell_type": "code",
   "execution_count": 6,
   "metadata": {
    "collapsed": false,
    "scrolled": true
   },
   "outputs": [
    {
     "name": "stdout",
     "output_type": "stream",
     "text": [
      "C:\\Users\\Eunda\\code\\s_201511079\\src\\key.properties\n",
      "{'dataseoul': '5a61567861646d73343375764d626f', 'gokr': 'brOVF7Bb7pkN%2BUg640BlylpMnEcjZMPdbHKUJdFEnZERF7bkrgWNheP1sn6JH2gzbuT4uFsz06KU2ym7Y8TfZA%3D%3D'}\n"
     ]
    }
   ],
   "source": [
    "import os\n",
    "import src.mylib\n",
    "keyPath = os.path.join(os.getcwd(), 'src', 'key.properties')\n",
    "key=src.mylib.getKey(keyPath)\n",
    "print keyPath\n",
    "print key"
   ]
  },
  {
   "cell_type": "code",
   "execution_count": 16,
   "metadata": {
    "collapsed": false
   },
   "outputs": [
    {
     "name": "stdout",
     "output_type": "stream",
     "text": [
      "0\n",
      "1\n",
      "2\n",
      "3\n",
      "4\n"
     ]
    }
   ],
   "source": [
    "i = 0\n",
    "while i <=4 :\n",
    "    print i\n",
    "    i += 1"
   ]
  },
  {
   "cell_type": "code",
   "execution_count": 8,
   "metadata": {
    "collapsed": false
   },
   "outputs": [
    {
     "name": "stdout",
     "output_type": "stream",
     "text": [
      "{'dataseoul': '5a61567861646d73343375764d626f', 'gokr': 'brOVF7Bb7pkN%2BUg640BlylpMnEcjZMPdbHKUJdFEnZERF7bkrgWNheP1sn6JH2gzbuT4uFsz06KU2ym7Y8TfZA%3D%3D'}\n",
      "5a61567861646d73343375764d626f/json/ListTaxiDrivingDataset/1/100/126.954904/37.601767/1/25/1\n",
      "{u'ListTaxiDrivingDataset': {u'row': [{u'CNT_OFF': 0.0, u'Y_PART': u'37.6009219^37.6009633^37.6010298^37.6010963^37.6011863^37.6012514^37.6013097^', u'DEST': u'1138', u'X_PART': u'126.9567299^126.9566182^126.9564559^126.9562813^126.9560727^126.9559628^126.9558629^', u'CNT_EMP': 0.0, u'LINK_ID': u'T_160735', u'WEATHER': u'1', u'TIME': u'25', u'CNT_ON': 1.0, u'DAY': u'1'}, {u'CNT_OFF': 1.0, u'Y_PART': u'37.6009219^37.6009633^37.6010298^37.6010963^37.6011863^37.6012514^37.6013097^', u'DEST': u'', u'X_PART': u'126.9567299^126.9566182^126.9564559^126.9562813^126.9560727^126.9559628^126.9558629^', u'CNT_EMP': 11.0, u'LINK_ID': u'T_160735', u'WEATHER': u'1', u'TIME': u'25', u'CNT_ON': 0.0, u'DAY': u'1'}, {u'CNT_OFF': 0.0, u'Y_PART': u'37.6013097^37.6014264^37.6015762^37.6017929^', u'DEST': u'1111', u'X_PART': u'126.9558629^126.9556630^126.9554132^126.9550507^', u'CNT_EMP': 0.0, u'LINK_ID': u'T_160736', u'WEATHER': u'1', u'TIME': u'25', u'CNT_ON': 1.0, u'DAY': u'1'}, {u'CNT_OFF': 10.0, u'Y_PART': u'37.6013097^37.6014264^37.6015762^37.6017929^', u'DEST': u'', u'X_PART': u'126.9558629^126.9556630^126.9554132^126.9550507^', u'CNT_EMP': 10.0, u'LINK_ID': u'T_160736', u'WEATHER': u'1', u'TIME': u'25', u'CNT_ON': 0.0, u'DAY': u'1'}, {u'CNT_OFF': 0.0, u'Y_PART': u'37.6017071^37.6014904^37.6013403^37.6012183^', u'DEST': u'1111', u'X_PART': u'126.9549993^126.9553618^126.9556120^126.9558212^', u'CNT_EMP': 0.0, u'LINK_ID': u'T_160737', u'WEATHER': u'1', u'TIME': u'25', u'CNT_ON': 2.0, u'DAY': u'1'}, {u'CNT_OFF': 2.0, u'Y_PART': u'37.6017071^37.6014904^37.6013403^37.6012183^', u'DEST': u'', u'X_PART': u'126.9549993^126.9553618^126.9556120^126.9558212^', u'CNT_EMP': 41.0, u'LINK_ID': u'T_160737', u'WEATHER': u'1', u'TIME': u'25', u'CNT_ON': 0.0, u'DAY': u'1'}, {u'CNT_OFF': 1.0, u'Y_PART': u'37.6012183^37.6011652^37.6010970^37.6010037^37.6009368^37.6008701^37.6008281^', u'DEST': u'', u'X_PART': u'126.9558212^126.9559122^126.9560273^126.9562437^126.9564191^126.9565818^126.9566951^', u'CNT_EMP': 44.0, u'LINK_ID': u'T_160738', u'WEATHER': u'1', u'TIME': u'25', u'CNT_ON': 0.0, u'DAY': u'1'}], u'RESULT': {u'MESSAGE': u'\\uc815\\uc0c1 \\ucc98\\ub9ac\\ub418\\uc5c8\\uc2b5\\ub2c8\\ub2e4', u'CODE': u'INFO-000'}, u'list_total_count': 7}}\n"
     ]
    }
   ],
   "source": [
    "import os\n",
    "import src.mylib\n",
    "import json\n",
    "import requests\n",
    "import urlparse\n",
    "\n",
    "keyPath=os.path.join(os.getcwd(), 'src', 'key.properties')\n",
    "key=src.mylib.getKey(keyPath)\n",
    "print key\n",
    "KEY=str(key['dataseoul'])\n",
    "TYPE='json'\n",
    "SERVICE='ListTaxiDrivingDataset'\n",
    "START_INDEX=str(1)\n",
    "END_INDEX=str(100)\n",
    "X_PART=str(126.954904)\n",
    "Y_PART=str(37.601767)\n",
    "DAY=str(1)\n",
    "TIME=str(25)\n",
    "WEATHER=str(1)\n",
    "\n",
    "params=KEY+'/'+TYPE+'/'+SERVICE+'/'+START_INDEX+'/'+END_INDEX+'/'+X_PART+'/'+Y_PART+'/'+DAY+'/'+TIME+'/'+WEATHER\n",
    "print params\n",
    "_url = 'http://openAPI.seoul.go.kr:8088/'\n",
    "url=urlparse.urljoin(_url, params)\n",
    "r= requests.get(url)\n",
    "_json=r.json()\n",
    "print _json\n"
   ]
  },
  {
   "cell_type": "code",
   "execution_count": 33,
   "metadata": {
    "collapsed": false
   },
   "outputs": [
    {
     "name": "stdout",
     "output_type": "stream",
     "text": [
      "[2, 2, 2, 2, 2, 2]\n"
     ]
    }
   ],
   "source": [
    "a=[]\n",
    "for i in range(0,6):\n",
    "    a.append(2)\n",
    "    \n",
    "print a"
   ]
  },
  {
   "cell_type": "code",
   "execution_count": null,
   "metadata": {
    "collapsed": true
   },
   "outputs": [],
   "source": [
    "\n",
    "\n",
    "def time(_t):\n",
    "    for i in (-1,1,2,3):\n",
    "        WEATHER=str(i)\n",
    "\n",
    "        params=KEY+'/'+TYPE+'/'+SERVICE+'/'+START_INDEX+'/'+END_INDEX+'/'+X_PART+'/'+Y_PART+'/'+DAY+'/'+TIME+'/'+WEATHER\n",
    "        print params[31:]\n",
    "        import urlparse\n",
    "        _url = 'http://openAPI.seoul.go.kr:8088/'\n",
    "        url=urlparse.urljoin(_url, params)\n",
    "\n",
    "        data=requests.get(url).text\n",
    "        p = re.compile('<CNT_OFF>(.+?)</CNT_OFF>')\n",
    "        res=p.findall(data)\n",
    "        sum=0\n",
    "        for item in res:\n",
    "            sum = sum+int(item)z\n",
    "        print sum\n",
    "\n",
    "def doIt():\n",
    "    keyPath=os.path.join(os.getcwd(), 'src', 'key.properties')\n",
    "    key=src.mylib.getKey(keyPath)\n",
    "    print key\n",
    "    KEY=str(key['dataseoul'])\n",
    "    TYPE='xml'\n",
    "    SERVICE='ListTaxiDrivingDataset'\n",
    "    START_INDEX=str(1)\n",
    "    END_INDEX=str(100)\n",
    "    X_PART=str(126.954904)\n",
    "    Y_PART=str(37.601767)"
   ]
  },
  {
   "cell_type": "code",
   "execution_count": 37,
   "metadata": {
    "collapsed": false
   },
   "outputs": [
    {
     "name": "stdout",
     "output_type": "stream",
     "text": [
      "http://openAPI.seoul.go.kr:8088/5a61567861646d73343375764d626f/json/CardSubwayStatisticsService/1/5/201306\n"
     ]
    }
   ],
   "source": [
    "import os\n",
    "import src.mylib\n",
    "import urlparse\n",
    "import requests\n",
    "import re\n",
    "import pymongo\n",
    "from pymongo import MongoClient\n",
    "\n",
    "keyPath=os.path.join(os.getcwd(), 'src', 'key.properties')\n",
    "key=src.mylib.getKey(keyPath)  \n",
    "_key=key['dataseoul'] #KEY='73725.....'\n",
    "_url='http://openAPI.seoul.go.kr:8088'\n",
    "_type='json'\n",
    "_service='CardSubwayStatisticsService'\n",
    "_start_index=1\n",
    "_end_index=5\n",
    "_use_mon='201306'\n",
    "_maxIter=20\n",
    "_iter=0\n",
    "_api=_url+'/'+_key+'/'+_type+'/'+_service+'/'+str(_start_index)+'/'+str(_end_index)+'/'+_use_mon\n",
    "print _api\n"
   ]
  }
 ],
 "metadata": {
  "kernelspec": {
   "display_name": "Python 2",
   "language": "python",
   "name": "python2"
  },
  "language_info": {
   "codemirror_mode": {
    "name": "ipython",
    "version": 2
   },
   "file_extension": ".py",
   "mimetype": "text/x-python",
   "name": "python",
   "nbconvert_exporter": "python",
   "pygments_lexer": "ipython2",
   "version": "2.7.13"
  }
 },
 "nbformat": 4,
 "nbformat_minor": 2
}
