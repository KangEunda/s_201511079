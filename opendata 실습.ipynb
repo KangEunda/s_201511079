{
 "cells": [
  {
   "cell_type": "code",
   "execution_count": 1,
   "metadata": {
    "collapsed": false
   },
   "outputs": [
    {
     "name": "stdout",
     "output_type": "stream",
     "text": [
      "__init__.py\n",
      "__init__.pyc\n",
      "ds3_4_web_crawl_h3.py\n",
      "ds3_4_web_crawl_h4_naverMusic.py\n",
      "ds5_save_s6_mongoDBPersons.py\n",
      "ds_open_dataseoul_ex.py\n",
      "ds_save_mongo_5.js\n",
      "ds_save_mongo_test.js\n",
      "ds_web_crawl_h1_by_CSSSelector.py\n",
      "ds_web_crawl_ieee.py\n",
      "ds_web_crawl_kbaseball.py\n",
      "key.properties\n",
      "my.xml\n",
      "mylib.py\n",
      "mypage1.html\n",
      "test.py\n"
     ]
    }
   ],
   "source": [
    "!ls src"
   ]
  },
  {
   "cell_type": "code",
   "execution_count": 2,
   "metadata": {
    "collapsed": false
   },
   "outputs": [
    {
     "name": "stdout",
     "output_type": "stream",
     "text": [
      "gokr= brOVF7Bb7pkN%2BUg640BlylpMnEcjZMPdbHKUJdFEnZERF7bkrgWNheP1sn6JH2gzbuT4uFsz06KU2ym7Y8TfZA%3D%3D\n",
      "dataseoul 5a61567861646d73343375764d626f\n"
     ]
    }
   ],
   "source": [
    "import src.mylib\n",
    "import os\n",
    "KEY=src.mylib.getKey(os.path.join('src','key.properties'))\n",
    "print 'gokr=',KEY['gokr']\n",
    "print 'dataseoul',KEY['dataseoul']"
   ]
  },
  {
   "cell_type": "code",
   "execution_count": 3,
   "metadata": {
    "collapsed": false
   },
   "outputs": [
    {
     "name": "stdout",
     "output_type": "stream",
     "text": [
      "__init__.py\n",
      "__init__.pyc\n",
      "ds3_4_web_crawl_h3.py\n",
      "ds3_4_web_crawl_h4_naverMusic.py\n",
      "ds5_save_s6_mongoDBPersons.py\n",
      "ds_open_dataseoul_ex.py\n",
      "ds_save_mongo_5.js\n",
      "ds_save_mongo_test.js\n",
      "ds_web_crawl_h1_by_CSSSelector.py\n",
      "ds_web_crawl_ieee.py\n",
      "ds_web_crawl_kbaseball.py\n",
      "key.properties\n",
      "my.xml\n",
      "mylib.py\n",
      "mylib.pyc\n",
      "mypage1.html\n",
      "test.py\n"
     ]
    }
   ],
   "source": [
    "!ls src"
   ]
  },
  {
   "cell_type": "code",
   "execution_count": 17,
   "metadata": {
    "collapsed": false
   },
   "outputs": [
    {
     "name": "stdout",
     "output_type": "stream",
     "text": [
      "Overwriting src/ds_open_dataseoul_ex.py\n"
     ]
    }
   ],
   "source": [
    "\n",
    "%%writefile src/ds_open_dataseoul_ex.py\n",
    "# coding: utf-8\n",
    "import os\n",
    "import requests\n",
    "import urlparse\n",
    "import mylib2\n",
    "\n",
    "def doIt():\n",
    "    keyPath=os.path.join(os.getcwd(), 'src', 'key.properties')\n",
    "    key=mylib2.getKey(keyPath)\n",
    "    # (1) make params with resource IDs\n",
    "    KEY=key['dataseoul']\n",
    "    TYPE='json'\n",
    "    SERVICE='SearchSTNBySubwayLineService'\n",
    "    START_INDEX=str(1)\n",
    "    END_INDEX=str(10)\n",
    "    LINE_NUM=str(2)\n",
    "    params=os.path.join(KEY,TYPE,SERVICE,START_INDEX,END_INDEX,LINE_NUM)\n",
    "    # (2) make a full url\n",
    "    _url='http://openAPI.seoul.go.kr:8088/'\n",
    "    url=urlparse.urljoin(_url,params)\n",
    "    url='http://openAPI.seoul.go.kr:8088/5a61567861646d73343375764d626f\\json/SearchSTNBySubwayLineService/1/10/2'\n",
    "    # (3) get data\n",
    "    data=requests.get(url).text\n",
    "    \n",
    "    \n",
    "    print(url)\n",
    "    print data[:300]\n",
    "\n",
    "if __name__ == \"__main__\":\n",
    "    doIt()"
   ]
  },
  {
   "cell_type": "code",
   "execution_count": 18,
   "metadata": {
    "collapsed": false
   },
   "outputs": [
    {
     "name": "stdout",
     "output_type": "stream",
     "text": [
      "__init__.py\n",
      "__init__.pyc\n",
      "ds3_4_web_crawl_h3.py\n",
      "ds3_4_web_crawl_h4_naverMusic.py\n",
      "ds5_save_s6_mongoDBPersons.py\n",
      "ds_open_dataseoul_ex.py\n",
      "ds_save_mongo_5.js\n",
      "ds_save_mongo_test.js\n",
      "ds_web_crawl_h1_by_CSSSelector.py\n",
      "ds_web_crawl_ieee.py\n",
      "ds_web_crawl_kbaseball.py\n",
      "key.properties\n",
      "my.xml\n",
      "mylib.py\n",
      "mylib.pyc\n",
      "mylib2.py\n",
      "mylib2.pyc\n",
      "mypage1.html\n",
      "test.py\n"
     ]
    }
   ],
   "source": [
    "!ls src"
   ]
  },
  {
   "cell_type": "code",
   "execution_count": 19,
   "metadata": {
    "collapsed": false
   },
   "outputs": [
    {
     "name": "stdout",
     "output_type": "stream",
     "text": [
      "http://openAPI.seoul.go.kr:8088/5a61567861646d73343375764d626f/json/SearchSTNBySubwayLineService/1/10/2\n"
     ]
    },
    {
     "name": "stderr",
     "output_type": "stream",
     "text": [
      "Traceback (most recent call last):\n",
      "  File \"src/ds_open_dataseoul_ex.py\", line 30, in <module>\n",
      "    doIt()\n",
      "  File \"src/ds_open_dataseoul_ex.py\", line 27, in doIt\n",
      "    print data[:300]\n",
      "UnicodeEncodeError: 'ascii' codec can't encode characters in position 94-95: ordinal not in range(128)\n"
     ]
    }
   ],
   "source": [
    "!python src/ds_open_dataseoul_ex.py\n",
    "#데이터 안나옴\n",
    "#cmd가서 프로젝트 루트로 간 뒤 python ds_..... 해봐 헐 안나옴\n"
   ]
  },
  {
   "cell_type": "code",
   "execution_count": null,
   "metadata": {
    "collapsed": true
   },
   "outputs": [],
   "source": []
  }
 ],
 "metadata": {
  "kernelspec": {
   "display_name": "Python 2",
   "language": "python",
   "name": "python2"
  },
  "language_info": {
   "codemirror_mode": {
    "name": "ipython",
    "version": 2
   },
   "file_extension": ".py",
   "mimetype": "text/x-python",
   "name": "python",
   "nbconvert_exporter": "python",
   "pygments_lexer": "ipython2",
   "version": "2.7.13"
  }
 },
 "nbformat": 4,
 "nbformat_minor": 2
}
