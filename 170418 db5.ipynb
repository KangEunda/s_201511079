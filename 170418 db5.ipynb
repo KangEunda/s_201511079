{
 "cells": [
  {
   "cell_type": "code",
   "execution_count": 1,
   "metadata": {
    "collapsed": true
   },
   "outputs": [],
   "source": [
    "import pymongo"
   ]
  },
  {
   "cell_type": "code",
   "execution_count": 2,
   "metadata": {
    "collapsed": true
   },
   "outputs": [],
   "source": [
    "from pymongo import MongoClient\n",
    "\n",
    "client = MongoClient()\n",
    "db=client.myDB"
   ]
  },
  {
   "cell_type": "code",
   "execution_count": 21,
   "metadata": {
    "collapsed": true
   },
   "outputs": [],
   "source": [
    "_id = 1\n",
    "_name = 'eunda'\n",
    "_age = 22\n",
    "_country='ko'"
   ]
  },
  {
   "cell_type": "code",
   "execution_count": 22,
   "metadata": {
    "collapsed": false
   },
   "outputs": [
    {
     "data": {
      "text/plain": [
       "<pymongo.results.InsertOneResult at 0x62ed7e0>"
      ]
     },
     "execution_count": 22,
     "metadata": {},
     "output_type": "execute_result"
    }
   ],
   "source": [
    "db.myPyCol.insert_one({\n",
    "    \"id\" :_id,\n",
    "    \"name\":_name,\n",
    "    \"age\":_age,\n",
    "    \"country\":_country\n",
    "})"
   ]
  },
  {
   "cell_type": "code",
   "execution_count": 23,
   "metadata": {
    "collapsed": false
   },
   "outputs": [
    {
     "name": "stdout",
     "output_type": "stream",
     "text": [
      "eunda\n"
     ]
    }
   ],
   "source": [
    "results = db.myPyCol.find()\n",
    "for r in results:\n",
    "    print r['name']"
   ]
  },
  {
   "cell_type": "code",
   "execution_count": 24,
   "metadata": {
    "collapsed": false
   },
   "outputs": [
    {
     "data": {
      "text/plain": [
       "<pymongo.results.UpdateResult at 0x62edcf0>"
      ]
     },
     "execution_count": 24,
     "metadata": {},
     "output_type": "execute_result"
    }
   ],
   "source": [
    "_name='KangEunda'\n",
    "_age=223\n",
    "db.myPyCol.update_one(\n",
    "    {\"id\":_id},\n",
    "    {\n",
    "        \"$set\":{\n",
    "            \"name\":_name,\n",
    "            \"age\":_age,\n",
    "        }\n",
    "    }\n",
    "\n",
    ")"
   ]
  },
  {
   "cell_type": "code",
   "execution_count": 25,
   "metadata": {
    "collapsed": false
   },
   "outputs": [
    {
     "name": "stdout",
     "output_type": "stream",
     "text": [
      "1 KangEunda\n"
     ]
    }
   ],
   "source": [
    "results = db.myPyCol.find()\n",
    "for r in results:\n",
    "    print r['id'], r['name']"
   ]
  },
  {
   "cell_type": "code",
   "execution_count": 28,
   "metadata": {
    "collapsed": false
   },
   "outputs": [
    {
     "data": {
      "text/plain": [
       "<pymongo.results.DeleteResult at 0x631da68>"
      ]
     },
     "execution_count": 28,
     "metadata": {},
     "output_type": "execute_result"
    }
   ],
   "source": [
    "db.myPyCol.delete_many({\"id\":1})"
   ]
  },
  {
   "cell_type": "code",
   "execution_count": 29,
   "metadata": {
    "collapsed": true
   },
   "outputs": [],
   "source": [
    "results = db.myPyCol.find()\n",
    "for r in results:\n",
    "    print r['id'], r['name']"
   ]
  },
  {
   "cell_type": "code",
   "execution_count": 32,
   "metadata": {
    "collapsed": false
   },
   "outputs": [
    {
     "name": "stdout",
     "output_type": "stream",
     "text": [
      "[{u'\\uc774\\ub984': u'\\uac15\\uc740\\ub2e4', u'id': u'201511079'}, {u'\\uc774\\ub984': u'\\uae40\\uc9c0\\uc601', u'id': u'201511095'}]\n",
      "[{u'\\uc774\\ub984': u'\\uac15\\uc740\\ub2e4', u'id': u'201511079'}, {u'\\uc774\\ub984': u'\\uae40\\uc9c0\\uc601', u'id': u'201511095'}]\n",
      "[{u'\\uc774\\ub984': u'KangEunda', u'id': u'201511079'}, {u'\\uc774\\ub984': u'\\uae40\\uc9c0\\uc601', u'id': u'201511095'}]\n",
      "[{u'\\uc774\\ub984': u'KangEunda', u'id': u'201511079'}, {u'\\uc774\\ub984': u'\\uae40\\uc9c0\\uc601', u'id': u'201511095'}]\n",
      "[{u'\\uc774\\ub984': u'KangEunda', u'id': u'201511079'}, {u'\\uc774\\ub984': u'\\uae40\\uc9c0\\uc601', u'id': u'201511095'}]\n",
      "[{u'\\uc774\\ub984': u'KangEunda', u'id': u'201511079'}, {u'\\uc774\\ub984': u'\\uae40\\uc9c0\\uc601', u'id': u'201511095'}]\n",
      "[{u'\\uc774\\ub984': u'KangEunda', u'id': u'201511079'}, {u'\\uc774\\ub984': u'\\uae40\\uc9c0\\uc601', u'id': u'201511095'}]\n"
     ]
    }
   ],
   "source": [
    "import pymongo\n",
    "from pymongo import MongoClient\n",
    "\n",
    "client = MongoClient('localhost:27017')\n",
    "db=client.myDB\n",
    "results = db.myCol.find()\n",
    "for r in results:\n",
    "    print r['Persons']"
   ]
  },
  {
   "cell_type": "code",
   "execution_count": 34,
   "metadata": {
    "collapsed": false
   },
   "outputs": [
    {
     "data": {
      "text/plain": [
       "<pymongo.results.DeleteResult at 0x631db40>"
      ]
     },
     "execution_count": 34,
     "metadata": {},
     "output_type": "execute_result"
    }
   ],
   "source": [
    "db.myCol.delete_many({\"id\":201511095})"
   ]
  },
  {
   "cell_type": "code",
   "execution_count": 35,
   "metadata": {
    "collapsed": false
   },
   "outputs": [
    {
     "name": "stdout",
     "output_type": "stream",
     "text": [
      "Writing src/ds5_save_s6_mongoDBPersons.py\n"
     ]
    }
   ],
   "source": [
    "%%writefile src/ds5_save_s6_mongoDBPersons.py\n",
    "import pymongo\n",
    "from pymongo import MongoClient\n",
    "\n",
    "client = MongoClient('localhost:27017')\n",
    "db=client.myDB\n",
    "results = db.myCol.find()\n",
    "for r in results:\n",
    "    print r['Persons']"
   ]
  }
 ],
 "metadata": {
  "kernelspec": {
   "display_name": "Python 2",
   "language": "python",
   "name": "python2"
  },
  "language_info": {
   "codemirror_mode": {
    "name": "ipython",
    "version": 2
   },
   "file_extension": ".py",
   "mimetype": "text/x-python",
   "name": "python",
   "nbconvert_exporter": "python",
   "pygments_lexer": "ipython2",
   "version": "2.7.13"
  }
 },
 "nbformat": 4,
 "nbformat_minor": 2
}
