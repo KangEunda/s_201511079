{
 "cells": [
  {
   "cell_type": "code",
   "execution_count": 6,
   "metadata": {
    "collapsed": false
   },
   "outputs": [],
   "source": [
    "import xml.etree.ElementTree as ET\n",
    "import os\n",
    "tree=ET.parse(os.path.join('src','mypage1.html'))"
   ]
  },
  {
   "cell_type": "code",
   "execution_count": 15,
   "metadata": {
    "collapsed": false
   },
   "outputs": [
    {
     "name": "stdout",
     "output_type": "stream",
     "text": [
      " -태그: html -> \n",
      "\n",
      "-태그: head -> \n",
      "\n",
      "-태그: title -> My Home Page\n",
      "-태그: body -> \n",
      "\n",
      "-태그: h1 -> 안녕하십니까\n",
      "-태그: p -> 오늘은 프로그래밍 하는 날...\n",
      "-태그: p -> Today we do programming...\n"
     ]
    }
   ],
   "source": [
    "for node in tree.getiterator():\n",
    "    print \"-태그:\",node.tag,\"->\", node.text"
   ]
  },
  {
   "cell_type": "code",
   "execution_count": 17,
   "metadata": {
    "collapsed": false
   },
   "outputs": [
    {
     "name": "stdout",
     "output_type": "stream",
     "text": [
      "Writing src/my.xml\n"
     ]
    }
   ],
   "source": [
    "\n",
    "%%writefile src/my.xml\n",
    "<?xml version=\"1.0\" encoding=\"utf-8\"?>\n",
    "<wikimedia>\n",
    "  <projects>\n",
    "    <project name=\"Wikipedia\" launch=\"2001-01-05\">\n",
    "      <editions>\n",
    "        <edition language=\"English\">en.wikipedia.org</edition>\n",
    "        <edition language=\"German\">de.wikipedia.org</edition>\n",
    "        <edition language=\"French\">fr.wikipedia.org</edition>\n",
    "        <edition language=\"Polish\">pl.wikipedia.org</edition>\n",
    "        <edition language=\"Spanish\">es.wikipedia.org</edition>\n",
    "      </editions>\n",
    "    </project>\n",
    "    <project name=\"Wiktionary\" launch=\"2002-12-12\">\n",
    "      <editions>\n",
    "        <edition language=\"English\">en.wiktionary.org</edition>\n",
    "        <edition language=\"French\">fr.wiktionary.org</edition>\n",
    "        <edition language=\"Vietnamese\">vi.wiktionary.org</edition>\n",
    "        <edition language=\"Turkish\">tr.wiktionary.org</edition>\n",
    "        <edition language=\"Spanish\">es.wiktionary.org</edition>\n",
    "      </editions>\n",
    "    </project>\n",
    "  </projects>\n",
    "</wikimedia>"
   ]
  },
  {
   "cell_type": "code",
   "execution_count": 18,
   "metadata": {
    "collapsed": false
   },
   "outputs": [
    {
     "name": "stdout",
     "output_type": "stream",
     "text": [
      "<Element 'wikimedia' at 0x6282e80>\n"
     ]
    }
   ],
   "source": [
    "import xml.etree.ElementTree as ET\n",
    "tree = ET.parse(os.path.join('src','my.xml'))\n",
    "root = tree.getroot()\n",
    "print root"
   ]
  },
  {
   "cell_type": "code",
   "execution_count": 19,
   "metadata": {
    "collapsed": false
   },
   "outputs": [
    {
     "name": "stdout",
     "output_type": "stream",
     "text": [
      "- 태그: wikimedia {}\n",
      "- 태그: projects {}\n",
      "- 태그: project {'name': 'Wikipedia', 'launch': '2001-01-05'}\n",
      "- 태그: editions {}\n",
      "- 태그: edition {'language': 'English'}\n",
      "- 태그: edition {'language': 'German'}\n",
      "- 태그: edition {'language': 'French'}\n",
      "- 태그: edition {'language': 'Polish'}\n",
      "- 태그: edition {'language': 'Spanish'}\n",
      "- 태그: project {'name': 'Wiktionary', 'launch': '2002-12-12'}\n",
      "- 태그: editions {}\n",
      "- 태그: edition {'language': 'English'}\n",
      "- 태그: edition {'language': 'French'}\n",
      "- 태그: edition {'language': 'Vietnamese'}\n",
      "- 태그: edition {'language': 'Turkish'}\n",
      "- 태그: edition {'language': 'Spanish'}\n"
     ]
    }
   ],
   "source": [
    "for node in tree.getiterator():\n",
    "    print \"- 태그:\", node.tag, node.attrib"
   ]
  },
  {
   "cell_type": "code",
   "execution_count": 20,
   "metadata": {
    "collapsed": true
   },
   "outputs": [],
   "source": [
    "f=open(os.path.join('src','my.xml'))\n",
    "xmlstr = f.read()\n",
    "f.close()"
   ]
  },
  {
   "cell_type": "code",
   "execution_count": 21,
   "metadata": {
    "collapsed": false
   },
   "outputs": [
    {
     "name": "stdout",
     "output_type": "stream",
     "text": [
      "<type 'str'>\n"
     ]
    }
   ],
   "source": [
    "print(type)(xmlstr)"
   ]
  },
  {
   "cell_type": "code",
   "execution_count": 22,
   "metadata": {
    "collapsed": false
   },
   "outputs": [
    {
     "name": "stdout",
     "output_type": "stream",
     "text": [
      "<?xml version=\"1.0\" encoding=\"utf-8\"?>\n",
      "<wikimedia>\n",
      "  <projects>\n",
      "    <project name=\"Wikipedia\" launch=\"2001-01-05\">\n",
      "      <editions>\n",
      "        <edition language=\"English\">en.wikipedia.org</edition>\n",
      "        <edition language=\"German\">de.wikipedia.org</edition>\n",
      "        <edition language=\"French\">fr.wikipedia.org</edition>\n",
      "        <edition language=\"Polish\">pl.wikipedia.org</edition>\n",
      "        <edition language=\"Spanish\">es.wikipedia.org</edition>\n",
      "      </editions>\n",
      "    </project>\n",
      "    <project name=\"Wiktionary\" launch=\"2002-12-12\">\n",
      "      <editions>\n",
      "        <edition language=\"English\">en.wiktionary.org</edition>\n",
      "        <edition language=\"French\">fr.wiktionary.org</edition>\n",
      "        <edition language=\"Vietnamese\">vi.wiktionary.org</edition>\n",
      "        <edition language=\"Turkish\">tr.wiktionary.org</edition>\n",
      "        <edition language=\"Spanish\">es.wiktionary.org</edition>\n",
      "      </editions>\n",
      "    </project>\n",
      "  </projects>\n",
      "</wikimedia>\n"
     ]
    }
   ],
   "source": [
    "print xmlstr"
   ]
  },
  {
   "cell_type": "code",
   "execution_count": 23,
   "metadata": {
    "collapsed": false
   },
   "outputs": [
    {
     "data": {
      "text/plain": [
       "xml.etree.ElementTree.ElementTree"
      ]
     },
     "execution_count": 23,
     "metadata": {},
     "output_type": "execute_result"
    }
   ],
   "source": [
    "type(tree)"
   ]
  }
 ],
 "metadata": {
  "kernelspec": {
   "display_name": "Python 2",
   "language": "python",
   "name": "python2"
  },
  "language_info": {
   "codemirror_mode": {
    "name": "ipython",
    "version": 2
   },
   "file_extension": ".py",
   "mimetype": "text/x-python",
   "name": "python",
   "nbconvert_exporter": "python",
   "pygments_lexer": "ipython2",
   "version": "2.7.13"
  }
 },
 "nbformat": 4,
 "nbformat_minor": 2
}
