{
 "cells": [
  {
   "cell_type": "code",
   "execution_count": 2,
   "metadata": {
    "collapsed": false
   },
   "outputs": [
    {
     "name": "stdout",
     "output_type": "stream",
     "text": [
      "{'a': 3, ' ': 1, 'e': 1, 'd': 1, 'g': 1, 'h': 1, 'k': 1, 'n': 2, 'p': 2, 'u': 1, 'y': 1}\n",
      "11\n",
      "['a', ' ', 'e', 'd', 'g', 'h', 'k', 'n', 'p', 'u', 'y']\n",
      "[3, 1, 1, 1, 1, 1, 1, 2, 2, 1, 1]\n"
     ]
    }
   ],
   "source": [
    "word = 'kangeunda happy'\n",
    "d=dict()\n",
    "for c in word:\n",
    "    if c not in d:\n",
    "        d[c] = 1\n",
    "    else : \n",
    "        d[c] = d[c] + 1\n",
    "print d\n",
    "print len(d)\n",
    "print d.keys()\n",
    "print d.values()"
   ]
  },
  {
   "cell_type": "code",
   "execution_count": 3,
   "metadata": {
    "collapsed": true
   },
   "outputs": [],
   "source": [
    "echo \"Hello kangeunda \\n this is a line \\n hello\" > temp.txt"
   ]
  },
  {
   "cell_type": "code",
   "execution_count": 8,
   "metadata": {
    "collapsed": false
   },
   "outputs": [
    {
     "data": {
      "image/png": "[encoded data removed]",
      "text/plain": [
       "<matplotlib.figure.Figure at 0x8106f98>"
      ]
     },
     "metadata": {},
     "output_type": "display_data"
    }
   ],
   "source": [
    "%matplotlib inline\n",
    "\n",
    "import matplotlib\n",
    "import matplotlib.pyplot as plt\n",
    "\n",
    "plt.bar(range(len(d)), d.values(), align='center')\n",
    "plt.xticks(range(len(d)), list(d.keys()))\n",
    "plt.show()"
   ]
  },
  {
   "cell_type": "code",
   "execution_count": 20,
   "metadata": {
    "collapsed": false
   },
   "outputs": [
    {
     "data": {
      "text/plain": [
       "True"
      ]
     },
     "execution_count": 20,
     "metadata": {},
     "output_type": "execute_result"
    }
   ],
   "source": [
    "import webbrowser\n",
    "\n",
    "myurl='https://www.google.co.kr/maps/place/Hongji-dong,+Jongno-gu,+Seoul/'\n",
    "webbrowser.open(myurl)"
   ]
  },
  {
   "cell_type": "code",
   "execution_count": 21,
   "metadata": {
    "collapsed": false
   },
   "outputs": [
    {
     "name": "stdout",
     "output_type": "stream",
     "text": [
      "%23q=python+tutorial\n"
     ]
    }
   ],
   "source": [
    "import urllib\n",
    "params = urllib.urlencode({\"#q\":\"python tutorial\"})\n",
    "print params"
   ]
  },
  {
   "cell_type": "code",
   "execution_count": 22,
   "metadata": {
    "collapsed": false
   },
   "outputs": [
    {
     "name": "stdout",
     "output_type": "stream",
     "text": [
      "http://www.google.com/#q=python+tutorial\n"
     ]
    }
   ],
   "source": [
    "url = 'http://www.google.com/#q='\n",
    "print url + urllib.quote_plus('python tutorial')"
   ]
  },
  {
   "cell_type": "code",
   "execution_count": 24,
   "metadata": {
    "collapsed": false
   },
   "outputs": [
    {
     "name": "stdout",
     "output_type": "stream",
     "text": [
      "<!doctype html>\n",
      "<!--[if lt IE 7]>   <html class=\"no-js ie6 lt-ie7 lt-ie8 lt-ie9\">   <![endif]-->\n",
      "<!--[if IE 7]>      <html class=\"no-js ie7 lt-ie8 lt-ie9\">          <![endif]-->\n",
      "<!--[if IE 8]>      <html class=\"no-js ie8 lt-ie9\">                 <![endif]-->\n",
      "<!--[if gt IE 8]><!--><html class=\"no-js\" lang=\"en\" dir=\"ltr\">  <!--<![endif]-->\n",
      "\n",
      "<head>\n",
      "    <meta charset=\"utf-8\">\n",
      "    <meta http-equiv=\"X-UA-Compatible\" content=\"IE=edge\">\n",
      "\n",
      "    <link rel=\"prefetch\" href=\"//ajax.googleapis.com/ajax/libs/jqu\n"
     ]
    }
   ],
   "source": [
    "import urllib2\n",
    "url = 'http://www.python.org'\n",
    "request = urllib2.Request(url)\n",
    "response = urllib2.urlopen(request)\n",
    "html = response.read()\n",
    "print html[:500]"
   ]
  },
  {
   "cell_type": "code",
   "execution_count": 30,
   "metadata": {
    "collapsed": false,
    "scrolled": false
   },
   "outputs": [
    {
     "name": "stdout",
     "output_type": "stream",
     "text": [
      "Overwriting src/midtermBeautifulSoup.py\n"
     ]
    }
   ],
   "source": [
    "%%writefile src/midtermBeautifulSoup.py\n",
    "import urllib\n",
    "from bs4 import BeautifulSoup\n",
    "uResponse=urllib.urlopen('http://python.org/')\n",
    "_html = uResponse.read()\n",
    "tree = BeautifulSoup(_html,\"lxml\")\n",
    "strongtags=tree('strong')\n",
    "for tag in strongtags:\n",
    "    print tag"
   ]
  },
  {
   "cell_type": "code",
   "execution_count": 32,
   "metadata": {
    "collapsed": false
   },
   "outputs": [
    {
     "data": {
      "text/html": [
       "<html>\n",
       "<body>\n",
       "<h2 class=\"my\">Turn this into blue</h2>\n",
       "<button onclick=\"myFunction()\">Click</button>\n",
       "<script>\n",
       "function myFunction(){\n",
       "    document.querySelector(\".my\").style.backgroundColor = \"blue\";\n",
       "}\n",
       "</script>\n",
       "</body>\n",
       "</html>"
      ],
      "text/plain": [
       "<IPython.core.display.HTML object>"
      ]
     },
     "metadata": {},
     "output_type": "display_data"
    }
   ],
   "source": [
    "%%HTML\n",
    "<html>\n",
    "<body>\n",
    "<h2 class=\"my\">Turn this into blue</h2>\n",
    "<button onclick=\"myFunction()\">Click</button>\n",
    "<script>\n",
    "function myFunction(){\n",
    "    document.querySelector(\".my\").style.backgroundColor = \"blue\";\n",
    "}\n",
    "</script>\n",
    "</body>\n",
    "</html>"
   ]
  },
  {
   "cell_type": "code",
   "execution_count": 40,
   "metadata": {
    "collapsed": false
   },
   "outputs": [
    {
     "name": "stdout",
     "output_type": "stream",
     "text": [
      "tag :  <p>this is number 12345</p>\n",
      "text:  this is number 12345\n"
     ]
    }
   ],
   "source": [
    "from bs4 import BeautifulSoup\n",
    "import re\n",
    "htmlstr = \"\"\"\n",
    "<p>this is number 12345</p>\n",
    "<p>this is text</p>\n",
    "\"\"\"\n",
    "\n",
    "soup = BeautifulSoup(htmlstr)\n",
    "for e in soup(text=re.compile(r'\\d+')):\n",
    "    print \"tag : \", e.parent\n",
    "    print \"text: \",e"
   ]
  },
  {
   "cell_type": "code",
   "execution_count": 41,
   "metadata": {
    "collapsed": true
   },
   "outputs": [],
   "source": [
    "f=open(os.path.join('src','mypage1.html'))\n",
    "htmlstr = f.read()\n",
    "f.close()"
   ]
  },
  {
   "cell_type": "code",
   "execution_count": 45,
   "metadata": {
    "collapsed": false
   },
   "outputs": [
    {
     "name": "stdout",
     "output_type": "stream",
     "text": [
      "태그 :  html {}\n",
      "태그 :  head {}\n",
      "태그 :  title {}\n",
      "태그 :  body {}\n",
      "태그 :  h1 {}\n",
      "태그 :  p {}\n",
      "태그 :  p {}\n"
     ]
    }
   ],
   "source": [
    "import lxml.etree\n",
    "\n",
    "tree = lxml.etree.fromstring(htmlstr)\n",
    "for node in tree.getiterator():\n",
    "    print\"태그 : \", node.tag, node.attrib"
   ]
  },
  {
   "cell_type": "code",
   "execution_count": 64,
   "metadata": {
    "collapsed": false
   },
   "outputs": [
    {
     "name": "stdout",
     "output_type": "stream",
     "text": [
      "Writing midtermT/webCraling1_regex.py\n"
     ]
    }
   ],
   "source": [
    "%%writefile midtermT/webCraling1_regex.py\n",
    "import re\n",
    "import requests\n",
    "rResponse=requests.get('http://python.org/')\n",
    "_html = rResponse.text\n",
    "p = re.compile('href=\"(http://.*?)\"')\n",
    "nodes = p.findall(_html)\n",
    "print \"How many http url?\",len(nodes)\n",
    "for i, node in enumerate(nodes):\n",
    "    print i,node"
   ]
  },
  {
   "cell_type": "code",
   "execution_count": 63,
   "metadata": {
    "collapsed": false
   },
   "outputs": [
    {
     "name": "stdout",
     "output_type": "stream",
     "text": [
      "Writing midtermT/webCraling1_xpath.py\n"
     ]
    }
   ],
   "source": [
    "%%writefile midtermT/webCraling1_xpath.py\n",
    "import re\n",
    "import requests\n",
    "rResponse=requests.get('http://python.org/')\n",
    "_html = rResponse.text\n",
    "from lxml import etree\n",
    "_htmlTree = etree.HTML(_html)\n",
    "result = etree.tostring(_htmlTree, pretty_print=True, method=\"html\")\n",
    "print len(result)\n",
    "nodes = _htmlTree.xpath('//*[@href]')\n",
    "print len(nodes)\n",
    "for i,node in enumerate(nodes):\n",
    "    if i < 20:\n",
    "        print i, node.attrib"
   ]
  },
  {
   "cell_type": "code",
   "execution_count": 69,
   "metadata": {
    "collapsed": false,
    "scrolled": true
   },
   "outputs": [
    {
     "name": "stdout",
     "output_type": "stream",
     "text": [
      "3\n",
      "0 None \n",
      "    \n",
      "1 None \n",
      "\n",
      "    \n",
      "2 None <![endif]\n"
     ]
    }
   ],
   "source": [
    "import lxml.html\n",
    "from lxml.cssselect import CSSSelector\n",
    "import requests\n",
    "r = requests.get('http://python.org/')\n",
    "_html=r.text\n",
    "html = lxml.html.fromstring(r.text)\n",
    "sel=CSSSelector('a[href]')\n",
    "nodes = set(html)\n",
    "print len(nodes)\n",
    "for i, node in enumerate(nodes):\n",
    "    if i<20:\n",
    "        print i, node.get('href'), node.text"
   ]
  },
  {
   "cell_type": "code",
   "execution_count": 75,
   "metadata": {
    "collapsed": false,
    "scrolled": true
   },
   "outputs": [
    {
     "name": "stdout",
     "output_type": "stream",
     "text": [
      "Writing midtermT/webCraling4_cssSelect.py\n"
     ]
    }
   ],
   "source": [
    "%%writefile midtermT/webCraling4_cssSelect.py\n",
    "# coding: utf-8\n",
    "import lxml.html\n",
    "import requests\n",
    "from lxml.cssselect import CSSSelector\n",
    "\n",
    "keyword='바보 같은'\n",
    "r = requests.get(\"http://music.naver.com/search/search.nhn?query=\"+keyword+\"&x=0&y=0\")\n",
    "_html = lxml.html.fromstring(r.text)\n",
    "\n",
    "sel = CSSSelector('table[summary] > tbody > ._tracklist_move')\n",
    "# Apply the selector to the DOM tree.\n",
    "nodes = sel(_html)\n",
    "\n",
    "_selName = CSSSelector('.name > a.title')\n",
    "_selArtist = CSSSelector('._artist.artist')\n",
    "_selAlbum= CSSSelector('.album > a')\n",
    "for node in nodes:\n",
    "    #print lxml.html.tostring(item)\n",
    "    _name=_selName(node)\n",
    "    _artist=_selArtist(node)\n",
    "    _album=_selAlbum(node)\n",
    "    if _name:\n",
    "        print \"artist: \", _artist[0].text_content().strip(),\n",
    "        print \"---\",\n",
    "        print \"song : \",_name[0].text_content(),\n",
    "        print \"---\",\n",
    "        print \"album : \",_album[0].text_content()"
   ]
  },
  {
   "cell_type": "code",
   "execution_count": 74,
   "metadata": {
    "collapsed": false,
    "scrolled": true
   },
   "outputs": [
    {
     "name": "stdout",
     "output_type": "stream",
     "text": [
      "Writing midtermT/webCraling5.py\n"
     ]
    }
   ],
   "source": [
    "%%writefile midtermT/webCraling5.py\n",
    "# coding: utf-8\n",
    "import lxml.html\n",
    "from lxml.cssselect import CSSSelector\n",
    "import requests\n",
    "r = requests.get('http://www.ieee.org/conferences_events/conferences/search/index.html')\n",
    "\n",
    "html = lxml.html.fromstring(r.text)\n",
    "sel=CSSSelector('div.content-r-full table.nogrid-nopad tr p>a[href]')\n",
    "nodes = sel(html)\n",
    "for node in nodes:\n",
    "    print node.text\n",
    "    print \"----------\""
   ]
  },
  {
   "cell_type": "code",
   "execution_count": 79,
   "metadata": {
    "collapsed": false
   },
   "outputs": [
    {
     "name": "stdout",
     "output_type": "stream",
     "text": [
      "Overwriting midtermT/save_5.js\n"
     ]
    }
   ],
   "source": [
    "%%writefile midtermT/save_5.js\n",
    "use myMidDB\n",
    "show dbs\n",
    "show tables\n",
    "db.myCol.insert({\"Persons\":[{\"id\":\"405\", \"name\":\"kangEunda\"},{\"id\":\"406\", \"name\":\"KimJiyoung\"}]})\n",
    "db.myCol.find({\"Persons.name\":\"KangEunda\"})"
   ]
  },
  {
   "cell_type": "code",
   "execution_count": 80,
   "metadata": {
    "collapsed": false
   },
   "outputs": [
    {
     "name": "stdout",
     "output_type": "stream",
     "text": [
      "Writing midtermT/key.properties\n"
     ]
    }
   ],
   "source": [
    "%%writefile midtermT/key.properties\n",
    "dataseoul=5a61567861646d73343375764d626f\n",
    "gokr=brOVF7Bb7pkN%2BUg640BlylpMnEcjZMPdbHKUJdFEnZERF7bkrgWNheP1sn6JH2gzbuT4uFsz06KU2ym7Y8TfZA%3D%3D"
   ]
  },
  {
   "cell_type": "code",
   "execution_count": 88,
   "metadata": {
    "collapsed": false
   },
   "outputs": [
    {
     "name": "stdout",
     "output_type": "stream",
     "text": [
      "Overwriting midtermT/mylib2.py\n"
     ]
    }
   ],
   "source": [
    "%%writefile midtermT/mylib2.py\n",
    "import os\n",
    "def sayHello():\n",
    "    print \"hello\"\n",
    "def sayHello2():\n",
    "    print \"hello 2\"\n",
    "def getKey(keyPath):\n",
    "    d=dict()\n",
    "    keyPath=os.path.join('src','key.properties')\n",
    "    f=open(keyPath,'r')\n",
    "    for line in f.readlines():\n",
    "        row=line.split('=')\n",
    "        row0=row[0]\n",
    "        d[row[0]]=row[1].strip()\n",
    "    return d"
   ]
  },
  {
   "cell_type": "code",
   "execution_count": 82,
   "metadata": {
    "collapsed": false
   },
   "outputs": [
    {
     "name": "stdout",
     "output_type": "stream",
     "text": [
      "Writing midtermT/__init__.py\n"
     ]
    }
   ],
   "source": [
    "%%writefile midtermT/__init__.py\n",
    "import os"
   ]
  },
  {
   "cell_type": "code",
   "execution_count": 85,
   "metadata": {
    "collapsed": false
   },
   "outputs": [
    {
     "name": "stdout",
     "output_type": "stream",
     "text": [
      "__init__.py\n",
      "key.properties\n",
      "mylib2.py\n",
      "save_5.js\n",
      "webCraling1_regex.py\n",
      "webCraling1_xpath.py\n",
      "webCraling4_cssSelect.py\n",
      "webCraling5.py\n"
     ]
    }
   ],
   "source": [
    "!ls midtermT/"
   ]
  },
  {
   "cell_type": "code",
   "execution_count": 95,
   "metadata": {
    "collapsed": false,
    "scrolled": true
   },
   "outputs": [
    {
     "name": "stdout",
     "output_type": "stream",
     "text": [
      "hello\n",
      "hello 2\n"
     ]
    }
   ],
   "source": [
    "import midtermT.mylib2\n",
    "midtermT.mylib2.sayHello()\n",
    "midtermT.mylib2.sayHello2()"
   ]
  },
  {
   "cell_type": "code",
   "execution_count": 90,
   "metadata": {
    "collapsed": false
   },
   "outputs": [
    {
     "name": "stdout",
     "output_type": "stream",
     "text": [
      "['dataseoul=5a61567861646d73343375764d626f\\n', 'gokr=brOVF7Bb7pkN%2BUg640BlylpMnEcjZMPdbHKUJdFEnZERF7bkrgWNheP1sn6JH2gzbuT4uFsz06KU2ym7Y8TfZA%3D%3D']\n"
     ]
    }
   ],
   "source": [
    "import os\n",
    "d=dict()\n",
    "keyPath=os.path.join('midtermT','key.properties')\n",
    "f=open(keyPath,'r')\n",
    "print f.readlines()"
   ]
  }
 ],
 "metadata": {
  "kernelspec": {
   "display_name": "Python 2",
   "language": "python",
   "name": "python2"
  },
  "language_info": {
   "codemirror_mode": {
    "name": "ipython",
    "version": 2
   },
   "file_extension": ".py",
   "mimetype": "text/x-python",
   "name": "python",
   "nbconvert_exporter": "python",
   "pygments_lexer": "ipython2",
   "version": "2.7.13"
  }
 },
 "nbformat": 4,
 "nbformat_minor": 2
}
