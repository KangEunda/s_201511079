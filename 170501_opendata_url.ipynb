{
 "cells": [
  {
   "cell_type": "code",
   "execution_count": 2,
   "metadata": {
    "collapsed": false
   },
   "outputs": [
    {
     "name": "stdout",
     "output_type": "stream",
     "text": [
      "%ED%95%9C\n",
      "%ED%95%9C\n"
     ]
    }
   ],
   "source": [
    "import urllib\n",
    "mystr = u\"한\"\n",
    "utf8str=mystr.encode('utf-8')\n",
    "print urllib.quote(utf8str)\n",
    "print urllib.quote_plus(utf8str)"
   ]
  },
  {
   "cell_type": "code",
   "execution_count": 3,
   "metadata": {
    "collapsed": false
   },
   "outputs": [
    {
     "name": "stdout",
     "output_type": "stream",
     "text": [
      "he+llo\n",
      "hel%20lo\n"
     ]
    }
   ],
   "source": [
    "print urllib.quote_plus('he llo')\n",
    "print urllib.quote('hel lo')"
   ]
  },
  {
   "cell_type": "code",
   "execution_count": 60,
   "metadata": {
    "collapsed": false
   },
   "outputs": [
    {
     "name": "stdout",
     "output_type": "stream",
     "text": [
      "xml/SearchSTNBySubwayLineService/1/10/2\n",
      "5a61567861646d73343375764d626f/xml/SearchSTNBySubwayLineService/1/10/2\n"
     ]
    }
   ],
   "source": [
    "import os\n",
    "import src.mylib\n",
    "\n",
    "KeyPath=os.path.join(os.getcwd(),'src','key.properties')\n",
    "key=src.mylib.getKey(KeyPath)\n",
    "KEY=str(key['dataseoul'])\n",
    "TYPE='xml'\n",
    "SERVICE='SearchSTNBySubwayLineService'\n",
    "START_INDEX=str(1)\n",
    "END_INDEX=str(10)\n",
    "LINE_NUM=str(2)\n",
    "\n",
    "params=KEY+'/'+TYPE+'/'+SERVICE+'/'+START_INDEX+'/'+END_INDEX+'/'+LINE_NUM\n",
    "print params[31:]\n",
    "print params\n",
    "\n"
   ]
  },
  {
   "cell_type": "code",
   "execution_count": 61,
   "metadata": {
    "collapsed": false
   },
   "outputs": [
    {
     "name": "stdout",
     "output_type": "stream",
     "text": [
      "http://openAPI.seoul.go.kr:8088/5a61567861646d73343375764d626f/xml/SearchSTNBySubwayLineService/1/10/2\n"
     ]
    }
   ],
   "source": [
    "import urlparse\n",
    "import re\n",
    "_url='http://openAPI.seoul.go.kr:8088/'\n",
    "url=urlparse.urljoin(_url,params)\n",
    "print url"
   ]
  },
  {
   "cell_type": "code",
   "execution_count": 62,
   "metadata": {
    "collapsed": false
   },
   "outputs": [
    {
     "name": "stdout",
     "output_type": "stream",
     "text": [
      "<?xml version=\"1.0\" encoding=\"UTF-8\"?>\n",
      "<SearchSTNBySubwayLineService>\n",
      "<list_total_count>51</list_total_count>\n",
      "<RESULT>\n",
      "<CODE>INFO-000</CODE>\n",
      "<MESSAGE>정상 처리되었습니다</MESSAGE>\n",
      "</RESULT>\n",
      "<row>\n",
      "<STATION_CD>0201</STATION_CD>\n",
      "<STATION_NM>시청</STATION_NM>\n",
      "<LINE_NUM>2</LINE_NUM>\n",
      "<FR_CODE>201</FR_CODE>\n",
      "</row>\n",
      "<row>\n",
      "<STATION_CD>0202</STATION_CD>\n",
      "<STATION_NM>을지로입구</STATION_NM>\n",
      "<LINE_NUM>2</LINE_NUM>\n",
      "<FR_CODE>202</FR_CODE>\n",
      "</row>\n",
      "<row>\n",
      "<STATION_CD>0203</STATION_CD>\n",
      "<STATION_NM>을지로3가</STATION_NM>\n",
      "<LINE_NUM>2</LI\n"
     ]
    }
   ],
   "source": [
    "import requests\n",
    "data=requests.get(url).text\n",
    "print data[:500]"
   ]
  },
  {
   "cell_type": "code",
   "execution_count": 12,
   "metadata": {
    "collapsed": false
   },
   "outputs": [
    {
     "data": {
      "text/plain": [
       "unicode"
      ]
     },
     "execution_count": 12,
     "metadata": {},
     "output_type": "execute_result"
    }
   ],
   "source": [
    "type(data)"
   ]
  },
  {
   "cell_type": "code",
   "execution_count": 63,
   "metadata": {
    "collapsed": false
   },
   "outputs": [
    {
     "name": "stdout",
     "output_type": "stream",
     "text": [
      "시청\n",
      "을지로입구\n",
      "을지로3가\n",
      "을지로4가\n",
      "동대문역사문화공원\n",
      "신당\n",
      "상왕십리\n",
      "왕십리\n",
      "한양대\n",
      "뚝섬\n"
     ]
    }
   ],
   "source": [
    "import re\n",
    "p=re.compile('<STATION_NM>(.+?)</STATION_NM>')\n",
    "res = p.findall(data)\n",
    "for item in res:\n",
    "    print item\n"
   ]
  },
  {
   "cell_type": "code",
   "execution_count": null,
   "metadata": {
    "collapsed": true
   },
   "outputs": [],
   "source": [
    "import re\n",
    "p=re.compile(<)"
   ]
  },
  {
   "cell_type": "code",
   "execution_count": 64,
   "metadata": {
    "collapsed": true
   },
   "outputs": [],
   "source": [
    "import xml.etree.ElementTree as ET\n",
    "tree = ET.fromstring(data.encode('utf-8'))"
   ]
  },
  {
   "cell_type": "code",
   "execution_count": 67,
   "metadata": {
    "collapsed": false
   },
   "outputs": [
    {
     "name": "stdout",
     "output_type": "stream",
     "text": [
      "0201 시청 2 201 \n",
      "------------\n",
      "0202 을지로입구 2 202 \n",
      "------------\n",
      "0203 을지로3가 2 203 \n",
      "------------\n",
      "0204 을지로4가 2 204 \n",
      "------------\n",
      "0205 동대문역사문화공원 2 205 \n",
      "------------\n",
      "0206 신당 2 206 \n",
      "------------\n",
      "0207 상왕십리 2 207 \n",
      "------------\n",
      "0208 왕십리 2 208 \n",
      "------------\n",
      "0209 한양대 2 209 \n",
      "------------\n",
      "0210 뚝섬 2 210 \n",
      "------------\n"
     ]
    }
   ],
   "source": [
    "stds=tree.findall('row')\n",
    "for elements in stds:\n",
    "    for elm in elements:\n",
    "        print elm.text,\n",
    "    print \"\\n------------\""
   ]
  },
  {
   "cell_type": "code",
   "execution_count": 70,
   "metadata": {
    "collapsed": false
   },
   "outputs": [
    {
     "name": "stdout",
     "output_type": "stream",
     "text": [
      "시청\n",
      "을지로입구\n",
      "을지로3가\n",
      "을지로4가\n",
      "동대문역사문화공원\n",
      "신당\n",
      "상왕십리\n",
      "왕십리\n",
      "한양대\n",
      "뚝섬\n"
     ]
    }
   ],
   "source": [
    "import lxml\n",
    "import lxml.etree\n",
    "import StringIO\n",
    "tree=lxml.etree.fromstring(data.encode('utf-8'))\n",
    "nodes = tree.xpath('//STATION_NM')\n",
    "\n",
    "\n",
    "for node in nodes:\n",
    "    print node.text"
   ]
  },
  {
   "cell_type": "code",
   "execution_count": 78,
   "metadata": {
    "collapsed": false
   },
   "outputs": [
    {
     "name": "stdout",
     "output_type": "stream",
     "text": [
      "Overwriting src/ds_open_subway_h3.py\n"
     ]
    }
   ],
   "source": [
    "%%writefile src/ds_open_subway_h3.py\n",
    "\n",
    "import os\n",
    "import mylib\n",
    "import urlparse\n",
    "import re\n",
    "import requests\n",
    "\n",
    "def doIt():\n",
    "    KeyPath=os.path.join(os.getcwd(),'src','key.properties')\n",
    "    key=mylib.getKey(KeyPath)\n",
    "    KEY=str(key['dataseoul'])\n",
    "    TYPE='xml'\n",
    "    SERVICE='SearchSTNBySubwayLineService'\n",
    "    START_INDEX=str(1)\n",
    "    END_INDEX=str(10)\n",
    "    LINE_NUM=str(2)\n",
    "\n",
    "    params=KEY+'/'+TYPE+'/'+SERVICE+'/'+START_INDEX+'/'+END_INDEX+'/'+LINE_NUM\n",
    "\n",
    "    _url='http://openAPI.seoul.go.kr:8088/'\n",
    "    url=urlparse.urljoin(_url,params)\n",
    "\n",
    "    data=requests.get(url).text\n",
    "\n",
    "    p=re.compile('<STATION_NM>(.+?)</STATION_NM>')\n",
    "    res = p.findall(data)\n",
    "    for item in res:\n",
    "        print item\n",
    "\n",
    "if __name__ == \"__main__\":\n",
    "    doIt()"
   ]
  },
  {
   "cell_type": "code",
   "execution_count": 82,
   "metadata": {
    "collapsed": false
   },
   "outputs": [
    {
     "name": "stdout",
     "output_type": "stream",
     "text": [
      "시청\n",
      "을지로입구\n",
      "을지로3가\n",
      "을지로4가\n",
      "동대문역사문화공원\n",
      "신당\n",
      "상왕십리\n",
      "왕십리\n",
      "한양대\n",
      "뚝섬\n"
     ]
    }
   ],
   "source": [
    "import os\n",
    "import src.mylib\n",
    "import urlparse\n",
    "import re\n",
    "import requests\n",
    "\n",
    "def doIt():\n",
    "    KeyPath=os.path.join(os.getcwd(),'src','key.properties')\n",
    "    key=src.mylib.getKey(KeyPath)\n",
    "    KEY=str(key['dataseoul'])\n",
    "    TYPE='xml'\n",
    "    SERVICE='SearchSTNBySubwayLineService'\n",
    "    START_INDEX=str(1)\n",
    "    END_INDEX=str(10)\n",
    "    LINE_NUM=str(2)\n",
    "\n",
    "    params=KEY+'/'+TYPE+'/'+SERVICE+'/'+START_INDEX+'/'+END_INDEX+'/'+LINE_NUM\n",
    "\n",
    "    _url='http://openAPI.seoul.go.kr:8088/'\n",
    "    url=urlparse.urljoin(_url,params)\n",
    "\n",
    "    data=requests.get(url).text\n",
    "\n",
    "    p=re.compile('<STATION_NM>(.+?)</STATION_NM>')\n",
    "    res = p.findall(data)\n",
    "    for item in res:\n",
    "        print item\n",
    "if __name__ == \"__main__\":\n",
    "    doIt()"
   ]
  },
  {
   "cell_type": "code",
   "execution_count": 77,
   "metadata": {
    "collapsed": false
   },
   "outputs": [
    {
     "name": "stderr",
     "output_type": "stream",
     "text": [
      "Traceback (most recent call last):\n",
      "  File \"src/ds_open_subway_h3.py\", line 35, in <module>\n",
      "    doIt()\n",
      "  File \"src/ds_open_subway_h3.py\", line 32, in doIt\n",
      "    print a.text\n",
      "UnicodeEncodeError: 'ascii' codec can't encode characters in position 0-1: ordinal not in range(128)\n"
     ]
    }
   ],
   "source": [
    "!python src/ds_open_subway_h3.py"
   ]
  }
 ],
 "metadata": {
  "kernelspec": {
   "display_name": "Python 2",
   "language": "python",
   "name": "python2"
  },
  "language_info": {
   "codemirror_mode": {
    "name": "ipython",
    "version": 2
   },
   "file_extension": ".py",
   "mimetype": "text/x-python",
   "name": "python",
   "nbconvert_exporter": "python",
   "pygments_lexer": "ipython2",
   "version": "2.7.13"
  }
 },
 "nbformat": 4,
 "nbformat_minor": 2
}
