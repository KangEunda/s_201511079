{
 "cells": [
  {
   "cell_type": "code",
   "execution_count": 2,
   "metadata": {
    "collapsed": false
   },
   "outputs": [
    {
     "name": "stdout",
     "output_type": "stream",
     "text": [
      "__init__.py\n",
      "key.properties\n",
      "mylib2.py\n",
      "save_5.js\n",
      "webCraling1_regex.py\n",
      "webCraling1_xpath.py\n",
      "webCraling4_cssSelect.py\n",
      "webCraling5.py\n"
     ]
    }
   ],
   "source": [
    "!ls midtermT"
   ]
  },
  {
   "cell_type": "code",
   "execution_count": 5,
   "metadata": {
    "collapsed": false
   },
   "outputs": [
    {
     "name": "stdout",
     "output_type": "stream",
     "text": [
      "gokr= brOVF7Bb7pkN%2BUg640BlylpMnEcjZMPdbHKUJdFEnZERF7bkrgWNheP1sn6JH2gzbuT4uFsz06KU2ym7Y8TfZA%3D%3D\n",
      "dataseoul 5a61567861646d73343375764d626f\n"
     ]
    }
   ],
   "source": [
    "import midtermT.mylib2\n",
    "import os\n",
    "KEY=midtermT.mylib2.getKey(os.path.join('midtermT','key.properties'))\n",
    "print 'gokr=',KEY['gokr']\n",
    "print 'dataseoul',KEY['dataseoul']"
   ]
  },
  {
   "cell_type": "code",
   "execution_count": 19,
   "metadata": {
    "collapsed": false
   },
   "outputs": [
    {
     "name": "stdout",
     "output_type": "stream",
     "text": [
      "Overwriting midtermT/ds_open_dataseoul_ex.py\n"
     ]
    }
   ],
   "source": [
    "\n",
    "%%writefile midtermT/ds_open_dataseoul_ex.py\n",
    "# coding: utf-8\n",
    "import os\n",
    "import requests\n",
    "import urlparse\n",
    "import mylib2\n",
    "\n",
    "def doIt():\n",
    "    keyPath=os.path.join(os.getcwd(), 'midtermT', 'key.properties')\n",
    "    key=mylib2.getKey(keyPath)\n",
    "    # (1) make params with resource IDs\n",
    "    KEY=key['dataseoul']\n",
    "    TYPE='json'\n",
    "    SERVICE='SearchSTNBySubwayLineService'\n",
    "    START_INDEX=str(1)\n",
    "    END_INDEX=str(10)\n",
    "    LINE_NUM=str(2)\n",
    "    params=os.path.join(KEY,TYPE,SERVICE,START_INDEX,END_INDEX,LINE_NUM)\n",
    "    # (2) make a full url\n",
    "    _url='http://openAPI.seoul.go.kr:8088/'\n",
    "    url=urlparse.urljoin(_url,params)\n",
    "    for idx,name in enumerate(url):\n",
    "        name\n",
    "    # (3) get data\n",
    "    data=requests.get(url).text\n",
    "    print(url)\n",
    "    print data[:300]\n",
    "\n",
    "if __name__ == \"__main__\":\n",
    "    doIt()"
   ]
  },
  {
   "cell_type": "code",
   "execution_count": 21,
   "metadata": {
    "collapsed": false
   },
   "outputs": [
    {
     "data": {
      "text/plain": [
       "str"
      ]
     },
     "execution_count": 21,
     "metadata": {},
     "output_type": "execute_result"
    }
   ],
   "source": [
    "b ='happy'\n",
    "type(b)\n"
   ]
  },
  {
   "cell_type": "code",
   "execution_count": 8,
   "metadata": {
    "collapsed": false
   },
   "outputs": [
    {
     "name": "stdout",
     "output_type": "stream",
     "text": [
      "http://openAPI.seoul.go.kr:8088/5a61567861646d73343375764d626f/json/SearchSTNBySubwayLineService/1/10/2\n"
     ]
    },
    {
     "name": "stderr",
     "output_type": "stream",
     "text": [
      "Traceback (most recent call last):\n",
      "  File \"src/ds_open_dataseoul_ex.py\", line 30, in <module>\n",
      "    doIt()\n",
      "  File \"src/ds_open_dataseoul_ex.py\", line 27, in doIt\n",
      "    print data[:300]\n",
      "UnicodeEncodeError: 'ascii' codec can't encode characters in position 94-95: ordinal not in range(128)\n"
     ]
    }
   ],
   "source": [
    "!python src/ds_open_dataseoul_ex.py"
   ]
  }
 ],
 "metadata": {
  "kernelspec": {
   "display_name": "Python 2",
   "language": "python",
   "name": "python2"
  },
  "language_info": {
   "codemirror_mode": {
    "name": "ipython",
    "version": 2
   },
   "file_extension": ".py",
   "mimetype": "text/x-python",
   "name": "python",
   "nbconvert_exporter": "python",
   "pygments_lexer": "ipython2",
   "version": "2.7.13"
  }
 },
 "nbformat": 4,
 "nbformat_minor": 2
}
