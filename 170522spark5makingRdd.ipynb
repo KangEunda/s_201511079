{
 "cells": [
  {
   "cell_type": "code",
   "execution_count": 1,
   "metadata": {
    "collapsed": false,
    "scrolled": true
   },
   "outputs": [],
   "source": [
    "import os\n",
    "import sys \n",
    "os.environ[\"SPARK_HOME\"]=\"C:\\\\Users\\\\Eunda\\\\code\\\\s_201511079\\\\spark-2.0.0-bin-hadoop2.6\"\n",
    "os.environ[\"PYLIB\"]=os.path.join(os.environ[\"SPARK_HOME\"],'python','lib')\n",
    "sys.path.insert(0,os.path.join(os.environ[\"PYLIB\"],'py4j-0.10.1-src.zip'))\n",
    "sys.path.insert(0,os.path.join(os.environ[\"PYLIB\"],'pyspark.zip'))"
   ]
  },
  {
   "cell_type": "code",
   "execution_count": 2,
   "metadata": {
    "collapsed": true
   },
   "outputs": [],
   "source": [
    "import pyspark\n",
    "myConf=pyspark.SparkConf()\n",
    "spark = pyspark.sql.SparkSession.builder.master(\"local\").appName(\"myApp\").config(conf=myConf).config('spark.sql.warehouse.dir','file:///C:/Users/Eunda/code/s_201511079/data').getOrCreate()\n"
   ]
  },
  {
   "cell_type": "code",
   "execution_count": 8,
   "metadata": {
    "collapsed": false
   },
   "outputs": [
    {
     "name": "stdout",
     "output_type": "stream",
     "text": [
      "Overwriting data/1.txt\n"
     ]
    }
   ],
   "source": [
    "%%writefile data/1.txt\n",
    "Wikipedia\n",
    "Apache Spark is an open source cluster computing framework.\n",
    "아파치 스파크는 오픈 소스 클러스터 컴퓨팅 프레임워크이다.\n",
    "Apache Spark Apache Spark Apache Spark Apache Spark\n",
    "아파치 스파크 아파치 스파크 아파치 스파크 아파치 스파크\n",
    "Originally developed at the University of California, Berkeley's AMPLab,\n",
    "the Spark codebase was later donated to the Apache Software Foundation,\n",
    "which has maintained it since.\n",
    "Spark provides an interface for programming entire clusters with\n",
    "implicit data parallelism and fault-tolerance."
   ]
  },
  {
   "cell_type": "code",
   "execution_count": 3,
   "metadata": {
    "collapsed": false
   },
   "outputs": [
    {
     "name": "stdout",
     "output_type": "stream",
     "text": [
      "<class 'pyspark.sql.dataframe.DataFrame'>\n"
     ]
    }
   ],
   "source": [
    "import os\n",
    "myDf=spark.read.text(\"./data/1.txt\")\n",
    "print type(myDf)"
   ]
  },
  {
   "cell_type": "code",
   "execution_count": 10,
   "metadata": {
    "collapsed": false,
    "scrolled": false
   },
   "outputs": [
    {
     "data": {
      "text/plain": [
       "[Row(value=u'Wikipedia')]"
      ]
     },
     "execution_count": 10,
     "metadata": {},
     "output_type": "execute_result"
    }
   ],
   "source": [
    "myDf.take(1)"
   ]
  },
  {
   "cell_type": "code",
   "execution_count": 11,
   "metadata": {
    "collapsed": false
   },
   "outputs": [
    {
     "name": "stdout",
     "output_type": "stream",
     "text": [
      "<class 'pyspark.sql.dataframe.DataFrame'>\n"
     ]
    }
   ],
   "source": [
    "import os\n",
    "myDf=spark.read.text(os.path.join(\"data\",\"ds_spark_wiki.txt\"))\n",
    "print type(myDf)"
   ]
  },
  {
   "cell_type": "code",
   "execution_count": 12,
   "metadata": {
    "collapsed": false
   },
   "outputs": [
    {
     "name": "stdout",
     "output_type": "stream",
     "text": [
      "Wikipedia\n"
     ]
    }
   ],
   "source": [
    "\n",
    "myRdd2=spark.sparkContext\\\n",
    "    .textFile(os.path.join(\"data\",\"ds_spark_wiki.txt\"))\n",
    "print myRdd2.first()"
   ]
  },
  {
   "cell_type": "code",
   "execution_count": 13,
   "metadata": {
    "collapsed": true
   },
   "outputs": [],
   "source": [
    "#S.6\n",
    "def mySplit(x):\n",
    "    return x.split(\" \")\n",
    "\n",
    "words=myRdd2.map(mySplit)"
   ]
  },
  {
   "cell_type": "code",
   "execution_count": 14,
   "metadata": {
    "collapsed": false
   },
   "outputs": [
    {
     "data": {
      "text/plain": [
       "10"
      ]
     },
     "execution_count": 14,
     "metadata": {},
     "output_type": "execute_result"
    }
   ],
   "source": [
    "words.count()"
   ]
  },
  {
   "cell_type": "code",
   "execution_count": 16,
   "metadata": {
    "collapsed": false,
    "scrolled": true
   },
   "outputs": [
    {
     "data": {
      "text/plain": [
       "[[u'Wikipedia'],\n",
       " [u'Apache',\n",
       "  u'Spark',\n",
       "  u'is',\n",
       "  u'an',\n",
       "  u'open',\n",
       "  u'source',\n",
       "  u'cluster',\n",
       "  u'computing',\n",
       "  u'framework.'],\n",
       " [u'\\uc544\\ud30c\\uce58',\n",
       "  u'\\uc2a4\\ud30c\\ud06c\\ub294',\n",
       "  u'\\uc624\\ud508',\n",
       "  u'\\uc18c\\uc2a4',\n",
       "  u'\\ud074\\ub7ec\\uc2a4\\ud130',\n",
       "  u'\\ucef4\\ud4e8\\ud305',\n",
       "  u'\\ud504\\ub808\\uc784\\uc6cc\\ud06c\\uc774\\ub2e4.']]"
      ]
     },
     "execution_count": 16,
     "metadata": {},
     "output_type": "execute_result"
    }
   ],
   "source": [
    "words.take(3)"
   ]
  },
  {
   "cell_type": "code",
   "execution_count": 17,
   "metadata": {
    "collapsed": false
   },
   "outputs": [
    {
     "name": "stdout",
     "output_type": "stream",
     "text": [
      "Wikipedia \n",
      "-----\n",
      "Apache Spark is an open source cluster computing framework. \n",
      "-----\n",
      "아파치 스파크는 오픈 소스 클러스터 컴퓨팅 프레임워크이다. \n",
      "-----\n",
      "Apache Spark Apache Spark Apache Spark Apache Spark \n",
      "-----\n",
      "아파치 스파크 아파치 스파크 아파치 스파크 아파치 스파크 \n",
      "-----\n",
      "Originally developed at the University of California, Berkeley's AMPLab, \n",
      "-----\n",
      "the Spark codebase was later donated to the Apache Software Foundation, \n",
      "-----\n",
      "which has maintained it since. \n",
      "-----\n",
      "Spark provides an interface for programming entire clusters with \n",
      "-----\n",
      "implicit data parallelism and fault-tolerance. \n",
      "-----\n"
     ]
    }
   ],
   "source": [
    "for line in words.collect():\n",
    "    for word in line:\n",
    "        print word,\n",
    "    print \"\\n-----\""
   ]
  },
  {
   "cell_type": "code",
   "execution_count": 18,
   "metadata": {
    "collapsed": false
   },
   "outputs": [
    {
     "data": {
      "text/plain": [
       "[9, 59, 32, 51, 31, 72, 71, 30, 64, 46]"
      ]
     },
     "execution_count": 18,
     "metadata": {},
     "output_type": "execute_result"
    }
   ],
   "source": [
    "myRdd2.map(lambda s:len(s)).collect()"
   ]
  },
  {
   "cell_type": "code",
   "execution_count": 19,
   "metadata": {
    "collapsed": true
   },
   "outputs": [],
   "source": [
    "myRdd_spark=myRdd2.filter(lambda line:\"Spark\" in line)"
   ]
  },
  {
   "cell_type": "code",
   "execution_count": 20,
   "metadata": {
    "collapsed": false
   },
   "outputs": [
    {
     "name": "stdout",
     "output_type": "stream",
     "text": [
      "4\n"
     ]
    }
   ],
   "source": [
    "print myRdd_spark.count()"
   ]
  },
  {
   "cell_type": "code",
   "execution_count": 24,
   "metadata": {
    "collapsed": false,
    "scrolled": true
   },
   "outputs": [
    {
     "data": {
      "text/plain": [
       "[u'Wikipedia',\n",
       " u'Apache Spark is an open source cluster computing framework.',\n",
       " u'\\uc544\\ud30c\\uce58 \\uc2a4\\ud30c\\ud06c\\ub294 \\uc624\\ud508 \\uc18c\\uc2a4 \\ud074\\ub7ec\\uc2a4\\ud130 \\ucef4\\ud4e8\\ud305 \\ud504\\ub808\\uc784\\uc6cc\\ud06c\\uc774\\ub2e4.',\n",
       " u'Apache Spark Apache Spark Apache Spark Apache Spark',\n",
       " u'\\uc544\\ud30c\\uce58 \\uc2a4\\ud30c\\ud06c \\uc544\\ud30c\\uce58 \\uc2a4\\ud30c\\ud06c \\uc544\\ud30c\\uce58 \\uc2a4\\ud30c\\ud06c \\uc544\\ud30c\\uce58 \\uc2a4\\ud30c\\ud06c',\n",
       " u\"Originally developed at the University of California, Berkeley's AMPLab,\"]"
      ]
     },
     "execution_count": 24,
     "metadata": {},
     "output_type": "execute_result"
    }
   ],
   "source": [
    "stopwords = ['is','am','are','the','for','a']\n",
    "myRdd_stop = myRdd2.filter(lambda x: x not in stopwords)\n",
    "myRdd_stop.take(6)"
   ]
  },
  {
   "cell_type": "code",
   "execution_count": 25,
   "metadata": {
    "collapsed": false,
    "scrolled": true
   },
   "outputs": [
    {
     "name": "stdout",
     "output_type": "stream",
     "text": [
      "[['this', 'is'], ['a', 'line']]\n"
     ]
    }
   ],
   "source": [
    "a=[\"this is\",\"a line\"]\n",
    "_rdd=spark.sparkContext.parallelize(a)\n",
    "\n",
    "words=_rdd.map(lambda x:x.split())\n",
    "print words.collect()"
   ]
  },
  {
   "cell_type": "code",
   "execution_count": 15,
   "metadata": {
    "collapsed": false
   },
   "outputs": [
    {
     "name": "stdout",
     "output_type": "stream",
     "text": [
      "Overwriting data/wiki.txt\n"
     ]
    }
   ],
   "source": [
    "%%writefile data/wiki.txt\n",
    "Apache Spark provides programmers with an application programming interface centered on a data structure called the resilient distributed dataset (RDD), a read-only multiset of data items distributed over a cluster of machines, that is maintained in a fault-tolerant way. It was developed in response to limitations in the MapReduce cluster computing paradigm, which forces a particular linear dataflow structure on distributed programs: MapReduce programs read input data from disk, map a function across the data, reduce the results of the map, and store reduction results on disk. Spark's RDDs function as a working set for distributed programs that offers a (deliberately) restricted form of distributed shared memory.\n",
    "The availability of RDDs facilitates the implementation of both iterative algorithms, that visit their dataset multiple times in a loop, and interactive/exploratory data analysis, i.e., the repeated database-style querying of data. The latency of such applications (compared to a MapReduce implementation, as was common in Apache Hadoop stacks) may be reduced by several orders of magnitude. Among the class of iterative algorithms are the training algorithms for machine learning systems, which formed the initial impetus for developing Apache Spark.\n",
    "Apache Spark requires a cluster manager and a distributed storage system. For cluster management, Spark supports standalone (native Spark cluster), Hadoop YARN, or Apache Mesos. For distributed storage, Spark can interface with a wide variety, including Hadoop Distributed File System (HDFS),[7] MapR File System (MapR-FS), Cassandra, OpenStack Swift, Amazon S3, Kudu, or a custom solution can be implemented. Spark also supports a pseudo-distributed local mode, usually used only for development or testing purposes, where distributed storage is not required and the local file system can be used instead; in such a scenario, Spark is run on a single machine with one executor per CPU core."
   ]
  },
  {
   "cell_type": "code",
   "execution_count": 16,
   "metadata": {
    "collapsed": false
   },
   "outputs": [
    {
     "name": "stdout",
     "output_type": "stream",
     "text": [
      "<class 'pyspark.sql.dataframe.DataFrame'>\n"
     ]
    }
   ],
   "source": [
    "import os\n",
    "myDf=spark.read.text(os.path.join(\"data\", \"wiki.txt\"))\n",
    "print type(myDf)"
   ]
  },
  {
   "cell_type": "code",
   "execution_count": 17,
   "metadata": {
    "collapsed": false
   },
   "outputs": [
    {
     "name": "stdout",
     "output_type": "stream",
     "text": [
      "Apache Spark provides programmers with an application programming interface centered on a data structure called the resilient distributed dataset (RDD), a read-only multiset of data items distributed over a cluster of machines, that is maintained in a fault-tolerant way. It was developed in response to limitations in the MapReduce cluster computing paradigm, which forces a particular linear dataflow structure on distributed programs: MapReduce programs read input data from disk, map a function across the data, reduce the results of the map, and store reduction results on disk. Spark's RDDs function as a working set for distributed programs that offers a (deliberately) restricted form of distributed shared memory.\n"
     ]
    }
   ],
   "source": [
    "myRdd2=spark.sparkContext.textFile(os.path.join(\"data\",\"wiki.txt\"))\n",
    "print myRdd2.first()"
   ]
  },
  {
   "cell_type": "code",
   "execution_count": 18,
   "metadata": {
    "collapsed": true
   },
   "outputs": [],
   "source": [
    "def mySplit(x):\n",
    "    return x.split(\" \")\n",
    "\n",
    "words = myRdd2.map(mySplit)"
   ]
  },
  {
   "cell_type": "code",
   "execution_count": 19,
   "metadata": {
    "collapsed": false
   },
   "outputs": [
    {
     "data": {
      "text/plain": [
       "3"
      ]
     },
     "execution_count": 19,
     "metadata": {},
     "output_type": "execute_result"
    }
   ],
   "source": [
    "words.count()"
   ]
  },
  {
   "cell_type": "code",
   "execution_count": 20,
   "metadata": {
    "collapsed": false
   },
   "outputs": [
    {
     "data": {
      "text/plain": [
       "[[u'Apache',\n",
       "  u'Spark',\n",
       "  u'provides',\n",
       "  u'programmers',\n",
       "  u'with',\n",
       "  u'an',\n",
       "  u'application',\n",
       "  u'programming',\n",
       "  u'interface',\n",
       "  u'centered',\n",
       "  u'on',\n",
       "  u'a',\n",
       "  u'data',\n",
       "  u'structure',\n",
       "  u'called',\n",
       "  u'the',\n",
       "  u'resilient',\n",
       "  u'distributed',\n",
       "  u'dataset',\n",
       "  u'(RDD),',\n",
       "  u'a',\n",
       "  u'read-only',\n",
       "  u'multiset',\n",
       "  u'of',\n",
       "  u'data',\n",
       "  u'items',\n",
       "  u'distributed',\n",
       "  u'over',\n",
       "  u'a',\n",
       "  u'cluster',\n",
       "  u'of',\n",
       "  u'machines,',\n",
       "  u'that',\n",
       "  u'is',\n",
       "  u'maintained',\n",
       "  u'in',\n",
       "  u'a',\n",
       "  u'fault-tolerant',\n",
       "  u'way.',\n",
       "  u'It',\n",
       "  u'was',\n",
       "  u'developed',\n",
       "  u'in',\n",
       "  u'response',\n",
       "  u'to',\n",
       "  u'limitations',\n",
       "  u'in',\n",
       "  u'the',\n",
       "  u'MapReduce',\n",
       "  u'cluster',\n",
       "  u'computing',\n",
       "  u'paradigm,',\n",
       "  u'which',\n",
       "  u'forces',\n",
       "  u'a',\n",
       "  u'particular',\n",
       "  u'linear',\n",
       "  u'dataflow',\n",
       "  u'structure',\n",
       "  u'on',\n",
       "  u'distributed',\n",
       "  u'programs:',\n",
       "  u'MapReduce',\n",
       "  u'programs',\n",
       "  u'read',\n",
       "  u'input',\n",
       "  u'data',\n",
       "  u'from',\n",
       "  u'disk,',\n",
       "  u'map',\n",
       "  u'a',\n",
       "  u'function',\n",
       "  u'across',\n",
       "  u'the',\n",
       "  u'data,',\n",
       "  u'reduce',\n",
       "  u'the',\n",
       "  u'results',\n",
       "  u'of',\n",
       "  u'the',\n",
       "  u'map,',\n",
       "  u'and',\n",
       "  u'store',\n",
       "  u'reduction',\n",
       "  u'results',\n",
       "  u'on',\n",
       "  u'disk.',\n",
       "  u\"Spark's\",\n",
       "  u'RDDs',\n",
       "  u'function',\n",
       "  u'as',\n",
       "  u'a',\n",
       "  u'working',\n",
       "  u'set',\n",
       "  u'for',\n",
       "  u'distributed',\n",
       "  u'programs',\n",
       "  u'that',\n",
       "  u'offers',\n",
       "  u'a',\n",
       "  u'(deliberately)',\n",
       "  u'restricted',\n",
       "  u'form',\n",
       "  u'of',\n",
       "  u'distributed',\n",
       "  u'shared',\n",
       "  u'memory.'],\n",
       " [u'The',\n",
       "  u'availability',\n",
       "  u'of',\n",
       "  u'RDDs',\n",
       "  u'facilitates',\n",
       "  u'the',\n",
       "  u'implementation',\n",
       "  u'of',\n",
       "  u'both',\n",
       "  u'iterative',\n",
       "  u'algorithms,',\n",
       "  u'that',\n",
       "  u'visit',\n",
       "  u'their',\n",
       "  u'dataset',\n",
       "  u'multiple',\n",
       "  u'times',\n",
       "  u'in',\n",
       "  u'a',\n",
       "  u'loop,',\n",
       "  u'and',\n",
       "  u'interactive/exploratory',\n",
       "  u'data',\n",
       "  u'analysis,',\n",
       "  u'i.e.,',\n",
       "  u'the',\n",
       "  u'repeated',\n",
       "  u'database-style',\n",
       "  u'querying',\n",
       "  u'of',\n",
       "  u'data.',\n",
       "  u'The',\n",
       "  u'latency',\n",
       "  u'of',\n",
       "  u'such',\n",
       "  u'applications',\n",
       "  u'(compared',\n",
       "  u'to',\n",
       "  u'a',\n",
       "  u'MapReduce',\n",
       "  u'implementation,',\n",
       "  u'as',\n",
       "  u'was',\n",
       "  u'common',\n",
       "  u'in',\n",
       "  u'Apache',\n",
       "  u'Hadoop',\n",
       "  u'stacks)',\n",
       "  u'may',\n",
       "  u'be',\n",
       "  u'reduced',\n",
       "  u'by',\n",
       "  u'several',\n",
       "  u'orders',\n",
       "  u'of',\n",
       "  u'magnitude.',\n",
       "  u'Among',\n",
       "  u'the',\n",
       "  u'class',\n",
       "  u'of',\n",
       "  u'iterative',\n",
       "  u'algorithms',\n",
       "  u'are',\n",
       "  u'the',\n",
       "  u'training',\n",
       "  u'algorithms',\n",
       "  u'for',\n",
       "  u'machine',\n",
       "  u'learning',\n",
       "  u'systems,',\n",
       "  u'which',\n",
       "  u'formed',\n",
       "  u'the',\n",
       "  u'initial',\n",
       "  u'impetus',\n",
       "  u'for',\n",
       "  u'developing',\n",
       "  u'Apache',\n",
       "  u'Spark.'],\n",
       " [u'Apache',\n",
       "  u'Spark',\n",
       "  u'requires',\n",
       "  u'a',\n",
       "  u'cluster',\n",
       "  u'manager',\n",
       "  u'and',\n",
       "  u'a',\n",
       "  u'distributed',\n",
       "  u'storage',\n",
       "  u'system.',\n",
       "  u'For',\n",
       "  u'cluster',\n",
       "  u'management,',\n",
       "  u'Spark',\n",
       "  u'supports',\n",
       "  u'standalone',\n",
       "  u'(native',\n",
       "  u'Spark',\n",
       "  u'cluster),',\n",
       "  u'Hadoop',\n",
       "  u'YARN,',\n",
       "  u'or',\n",
       "  u'Apache',\n",
       "  u'Mesos.',\n",
       "  u'For',\n",
       "  u'distributed',\n",
       "  u'storage,',\n",
       "  u'Spark',\n",
       "  u'can',\n",
       "  u'interface',\n",
       "  u'with',\n",
       "  u'a',\n",
       "  u'wide',\n",
       "  u'variety,',\n",
       "  u'including',\n",
       "  u'Hadoop',\n",
       "  u'Distributed',\n",
       "  u'File',\n",
       "  u'System',\n",
       "  u'(HDFS),[7]',\n",
       "  u'MapR',\n",
       "  u'File',\n",
       "  u'System',\n",
       "  u'(MapR-FS),',\n",
       "  u'Cassandra,',\n",
       "  u'OpenStack',\n",
       "  u'Swift,',\n",
       "  u'Amazon',\n",
       "  u'S3,',\n",
       "  u'Kudu,',\n",
       "  u'or',\n",
       "  u'a',\n",
       "  u'custom',\n",
       "  u'solution',\n",
       "  u'can',\n",
       "  u'be',\n",
       "  u'implemented.',\n",
       "  u'Spark',\n",
       "  u'also',\n",
       "  u'supports',\n",
       "  u'a',\n",
       "  u'pseudo-distributed',\n",
       "  u'local',\n",
       "  u'mode,',\n",
       "  u'usually',\n",
       "  u'used',\n",
       "  u'only',\n",
       "  u'for',\n",
       "  u'development',\n",
       "  u'or',\n",
       "  u'testing',\n",
       "  u'purposes,',\n",
       "  u'where',\n",
       "  u'distributed',\n",
       "  u'storage',\n",
       "  u'is',\n",
       "  u'not',\n",
       "  u'required',\n",
       "  u'and',\n",
       "  u'the',\n",
       "  u'local',\n",
       "  u'file',\n",
       "  u'system',\n",
       "  u'can',\n",
       "  u'be',\n",
       "  u'used',\n",
       "  u'instead;',\n",
       "  u'in',\n",
       "  u'such',\n",
       "  u'a',\n",
       "  u'scenario,',\n",
       "  u'Spark',\n",
       "  u'is',\n",
       "  u'run',\n",
       "  u'on',\n",
       "  u'a',\n",
       "  u'single',\n",
       "  u'machine',\n",
       "  u'with',\n",
       "  u'one',\n",
       "  u'executor',\n",
       "  u'per',\n",
       "  u'CPU',\n",
       "  u'core.']]"
      ]
     },
     "execution_count": 20,
     "metadata": {},
     "output_type": "execute_result"
    }
   ],
   "source": [
    "words.take(3)"
   ]
  },
  {
   "cell_type": "code",
   "execution_count": 25,
   "metadata": {
    "collapsed": true
   },
   "outputs": [],
   "source": [
    "wc2         = myRdd.flatMap(lambda x:x.split()).map(lambda x:(x,1)).reduceByKey(lambda x,y:x+y).map(lambda x:(x[1],x[0])).sortByKey(False).take(30) "
   ]
  },
  {
   "cell_type": "code",
   "execution_count": 26,
   "metadata": {
    "collapsed": false
   },
   "outputs": [
    {
     "name": "stdout",
     "output_type": "stream",
     "text": [
      "(17, u'a')\n",
      "(11, u'the')\n",
      "(10, u'of')\n",
      "(8, u'distributed')\n",
      "(7, u'Spark')\n",
      "(6, u'in')\n",
      "(5, u'Apache')\n",
      "(4, u'for')\n",
      "(4, u'and')\n",
      "(4, u'data')\n",
      "(4, u'on')\n",
      "(4, u'cluster')\n",
      "(3, u'with')\n",
      "(3, u'is')\n",
      "(3, u'Hadoop')\n",
      "(3, u'be')\n",
      "(3, u'MapReduce')\n",
      "(3, u'or')\n",
      "(3, u'can')\n",
      "(3, u'that')\n",
      "(2, u'local')\n",
      "(2, u'which')\n",
      "(2, u'supports')\n",
      "(2, u'For')\n",
      "(2, u'interface')\n",
      "(2, u'was')\n",
      "(2, u'function')\n",
      "(2, u'as')\n",
      "(2, u'iterative')\n",
      "(2, u'storage')\n"
     ]
    }
   ],
   "source": [
    "for e in wc2:\n",
    "    print e"
   ]
  },
  {
   "cell_type": "code",
   "execution_count": 29,
   "metadata": {
    "collapsed": false
   },
   "outputs": [
    {
     "data": {
      "image/png": "[encoded data removed]",
      "text/plain": [
       "<matplotlib.figure.Figure at 0x9b69320>"
      ]
     },
     "metadata": {},
     "output_type": "display_data"
    }
   ],
   "source": [
    "import pyspark\n",
    "import matplotlib.pyplot as plt\n",
    "\n",
    "\n",
    "myConf      = pyspark.SparkConf() \n",
    "spark = pyspark.sql.SparkSession.builder.master(\"local\").appName(\"myApp\").config(conf=myConf).config('spark.sql.warehouse.dir','file:///C:/Users/Eunda/code/s_201511079/data').getOrCreate()\n",
    "filepath    = os.path.join('data','wiki.txt') \n",
    "myRdd         = spark.sparkContext.textFile(filepath) \n",
    "wc2         = myRdd.flatMap(lambda x:x.split()).map(lambda x:(x,1)).reduceByKey(lambda x,y:x+y).map(lambda x:(x[1],x[0])).sortByKey(False).take(30) \n",
    "count       = map(lambda x: x[0],wc2) \n",
    "word        = map(lambda x: x[1],wc2) \n",
    "plt.barh(range(len(count)),count,color='blue') \n",
    "plt.yticks(range(len(count)), word) \n",
    "plt.show() "
   ]
  }
 ],
 "metadata": {
  "kernelspec": {
   "display_name": "Python 2",
   "language": "python",
   "name": "python2"
  },
  "language_info": {
   "codemirror_mode": {
    "name": "ipython",
    "version": 2
   },
   "file_extension": ".py",
   "mimetype": "text/x-python",
   "name": "python",
   "nbconvert_exporter": "python",
   "pygments_lexer": "ipython2",
   "version": "2.7.13"
  }
 },
 "nbformat": 4,
 "nbformat_minor": 2
}
