{
 "cells": [
  {
   "cell_type": "code",
   "execution_count": 6,
   "metadata": {
    "collapsed": false
   },
   "outputs": [
    {
     "name": "stdout",
     "output_type": "stream",
     "text": [
      "Overwriting src/ds_open_subway_h6_1.py\n"
     ]
    }
   ],
   "source": [
    "%%writefile src/ds_open_subway_h6_1.py\n",
    "import os\n",
    "import requests\n",
    "import mylib\n",
    "import json\n",
    "\n",
    "def doIt():\n",
    "    _url='http://openAPI.seoul.go.kr:8088'\n",
    "    keyPath=os.path.join(os.getcwd(), 'src', 'key.properties')\n",
    "    key=mylib.getKey(keyPath)\n",
    "    _key=str(key['dataseoul'])\n",
    "    _type='xml'\n",
    "    _service='CardSubwayStatisticsService'\n",
    "    _start_index=1\n",
    "    _end_index=5\n",
    "    _use_mon='201306'\n",
    "    _api=_url+'/'+_key+'/'+_type+'/'+_service+'/'+str(_start_index)+'/'+str(_end_index)+'/'+_use_mon\n",
    "   \n",
    "    data=requests.get(_api).text\n",
    "    \n",
    "    jd=json.loads(data)\n",
    "    print jd['SearchSTNBySubwayLineService']['row'][0]\n",
    "    for item in jd['SearchSTNBySubwayLineService']['row']:\n",
    "        print item.keys()\n",
    "        for i in item.keys():\n",
    "            if i=='STATION_NM':\n",
    "                print ''.join(item.values())\n",
    "                print item.values()[1]\n",
    "\n",
    "if __name__==\"__main__\":\n",
    "    doIt()"
   ]
  },
  {
   "cell_type": "code",
   "execution_count": null,
   "metadata": {
    "collapsed": true
   },
   "outputs": [],
   "source": [
    "%%writefile src/ds_open_subwayPassengers.py\n",
    "# coding: utf-8\n",
    "import os\n",
    "import requests\n",
    "import json\n",
    "from pymongo import MongoClient\n",
    "import mylib\n",
    "\n",
    "Client = MongoClient('localhost:27017')\n",
    "_db=Client['ds_open_subwayPassengersDb'] #db created by mongo\n",
    "_table=_db['db_open_subwayTable'] #collection\n",
    "#db=Client.ds_rest_subwayPassengers\n",
    "\n",
    "def saveJson(_fname,_data):\n",
    "    import io\n",
    "    with io.open(_fname, 'a', encoding='utf8') as json_file:\n",
    "        _j=json.dumps(_data, json_file, ensure_ascii=False, encoding='utf8')\n",
    "        json_file.write(_j+\"\\n\")\n",
    "\n",
    "def readJson(_fname):\n",
    "    for line in open(_fname, 'r').readlines():\n",
    "        _j=json.loads(line)\n",
    "        #print _j['id'],_j['text']\n",
    "        print _j['id']\n",
    "\n",
    "def saveDB(_data):\n",
    "    _table.insert_one(_data)\n",
    "\n",
    "def readDB():\n",
    "    for tweet in _table.find():\n",
    "        print tweet['id'],tweet['text']\n",
    "\n",
    "def saveFile(_fname,_data):\n",
    "    fp=open(_fname,'a')\n",
    "    fp.write(_data+\"\\n\")\n",
    "\n",
    "def doIt():\n",
    "    keyPath=os.path.join(os.getcwd(), 'src', 'key.properties')\n",
    "    key=mylib.getKey(keyPath)  \n",
    "    _key=key['dataseoul'] #KEY='73725.....'\n",
    "    _url='http://openAPI.seoul.go.kr:8088'\n",
    "    _type='json'\n",
    "    _service='CardSubwayStatisticsService'\n",
    "    _start_index=1\n",
    "    _end_index=5\n",
    "    _use_mon='201306'\n",
    "    _maxIter=20\n",
    "    _iter=0\n",
    "    _jfname='src/ds_open_subwayPassengers.json'\n",
    "    while _iter<_maxIter:\n",
    "        _api=os.path.join(_url,_key,_type,_service,str(_start_index),str(_end_index),_use_mon)\n",
    "        #print _api\n",
    "        r=requests.get(_api)\n",
    "        _json=r.json()\n",
    "        print _json\n",
    "        saveJson(_jfname,_json)\n",
    "        saveDB(_json)\n",
    "        _start_index+=5\n",
    "        _end_index+=5\n",
    "        _iter+=1\n",
    "\n",
    "if __name__ == \"__main__\":\n",
    "    doIt()"
   ]
  },
  {
   "cell_type": "code",
   "execution_count": 7,
   "metadata": {
    "collapsed": false
   },
   "outputs": [
    {
     "name": "stdout",
     "output_type": "stream",
     "text": [
      "MongoDB shell version v3.4.3\n",
      "connecting to: mongodb://127.0.0.1:27017\n",
      "MongoDB server version: 3.4.3\n",
      "switched to db ds_open_subwayPassengersDb\n",
      "{ \"_id\" : ObjectId(\"590842755cf84b1998a3cf63\"), \"CardSubwayStatisticsService\" : { \"row\" : [ { \"COMMT\" : \"\", \"RIDE_PASGR_NUM\" : 206631, \"WORK_DT\" : \"20130723\", \"LINE_NUM\" : \"遺꾨떦��, \"SUB_STA_NM\" : \"�좎젙由�, \"ALIGHT_PASGR_NUM\" : 231260, \"USE_MON\" : \"201306\" }, { \"COMMT\" : \"\", \"RIDE_PASGR_NUM\" : 188076, \"WORK_DT\" : \"20130723\", \"LINE_NUM\" : \"遺꾨떦��, \"SUB_STA_NM\" : \"媛뺣궓援ъ껌\", \"ALIGHT_PASGR_NUM\" : 215608, \"USE_MON\" : \"201306\" }, { \"COMMT\" : \"\", \"RIDE_PASGR_NUM\" : 345902, \"WORK_DT\" : \"20130723\", \"LINE_NUM\" : \"遺꾨떦��, \"SUB_STA_NM\" : \"�뺢뎄�뺣줈�곗삤\", \"ALIGHT_PASGR_NUM\" : 393142, \"USE_MON\" : \"201306\" }, { \"COMMT\" : \"\", \"RIDE_PASGR_NUM\" : 143459, \"WORK_DT\" : \"20130723\", \"LINE_NUM\" : \"遺꾨떦��, \"SUB_STA_NM\" : \"�쒖슱��, \"ALIGHT_PASGR_NUM\" : 136147, \"USE_MON\" : \"201306\" }, { \"COMMT\" : \"\", \"RIDE_PASGR_NUM\" : 180522, \"WORK_DT\" : \"20130723\", \"LINE_NUM\" : \"遺꾨떦��, \"SUB_STA_NM\" : \"�섏꽌\", \"ALIGHT_PASGR_NUM\" : 185810, \"USE_MON\" : \"201306\" } ], \"RESULT\" : { \"MESSAGE\" : \"�뺤긽 泥섎━�섏뿀�듬땲��, \"CODE\" : \"INFO-000\" }, \"list_total_count\" : 530 } }\n",
      "{ \"_id\" : ObjectId(\"590b44925cf84b41442af2b6\"), \"CardSubwayStatisticsService\" : { \"row\" : [ { \"COMMT\" : \"\", \"RIDE_PASGR_NUM\" : 206631, \"WORK_DT\" : \"20130723\", \"LINE_NUM\" : \"遺꾨떦��, \"SUB_STA_NM\" : \"�좎젙由�, \"ALIGHT_PASGR_NUM\" : 231260, \"USE_MON\" : \"201306\" }, { \"COMMT\" : \"\", \"RIDE_PASGR_NUM\" : 188076, \"WORK_DT\" : \"20130723\", \"LINE_NUM\" : \"遺꾨떦��, \"SUB_STA_NM\" : \"媛뺣궓援ъ껌\", \"ALIGHT_PASGR_NUM\" : 215608, \"USE_MON\" : \"201306\" }, { \"COMMT\" : \"\", \"RIDE_PASGR_NUM\" : 345902, \"WORK_DT\" : \"20130723\", \"LINE_NUM\" : \"遺꾨떦��, \"SUB_STA_NM\" : \"�뺢뎄�뺣줈�곗삤\", \"ALIGHT_PASGR_NUM\" : 393142, \"USE_MON\" : \"201306\" }, { \"COMMT\" : \"\", \"RIDE_PASGR_NUM\" : 143459, \"WORK_DT\" : \"20130723\", \"LINE_NUM\" : \"遺꾨떦��, \"SUB_STA_NM\" : \"�쒖슱��, \"ALIGHT_PASGR_NUM\" : 136147, \"USE_MON\" : \"201306\" }, { \"COMMT\" : \"\", \"RIDE_PASGR_NUM\" : 180522, \"WORK_DT\" : \"20130723\", \"LINE_NUM\" : \"遺꾨떦��, \"SUB_STA_NM\" : \"�섏꽌\", \"ALIGHT_PASGR_NUM\" : 185810, \"USE_MON\" : \"201306\" } ], \"RESULT\" : { \"MESSAGE\" : \"�뺤긽 泥섎━�섏뿀�듬땲��, \"CODE\" : \"INFO-000\" }, \"list_total_count\" : 530 } }\n",
      "bye\n"
     ]
    }
   ],
   "source": [
    "    !mongo < src/ds_open_h7_subwayPassengers_mongo.js"
   ]
  }
 ],
 "metadata": {
  "kernelspec": {
   "display_name": "Python 2",
   "language": "python",
   "name": "python2"
  },
  "language_info": {
   "codemirror_mode": {
    "name": "ipython",
    "version": 2
   },
   "file_extension": ".py",
   "mimetype": "text/x-python",
   "name": "python",
   "nbconvert_exporter": "python",
   "pygments_lexer": "ipython2",
   "version": "2.7.13"
  }
 },
 "nbformat": 4,
 "nbformat_minor": 2
}
