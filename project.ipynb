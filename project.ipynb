{
 "cells": [
  {
   "cell_type": "code",
   "execution_count": 21,
   "metadata": {
    "collapsed": false
   },
   "outputs": [
    {
     "name": "stdout",
     "output_type": "stream",
     "text": [
      "-1\n",
      "1\n",
      "2\n",
      "3\n"
     ]
    }
   ],
   "source": [
    "for i in (-1, 1, 2, 3):\n",
    "    print i"
   ]
  },
  {
   "cell_type": "code",
   "execution_count": 172,
   "metadata": {
    "collapsed": false
   },
   "outputs": [
    {
     "name": "stdout",
     "output_type": "stream",
     "text": [
      "{'dataseoul': '5a61567861646d73343375764d626f', 'gokr': 'brOVF7Bb7pkN%2BUg640BlylpMnEcjZMPdbHKUJdFEnZERF7bkrgWNheP1sn6JH2gzbuT4uFsz06KU2ym7Y8TfZA%3D%3D'}\n",
      "xml/ListTaxiDrivingDataset/1/100/126.954904/37.601767/2/21/1\n",
      "5a61567861646d73343375764d626f/xml/ListTaxiDrivingDataset/1/100/126.954904/37.601767/2/21/1\n"
     ]
    }
   ],
   "source": [
    "import os\n",
    "import src.mylib\n",
    "\n",
    "keyPath=os.path.join(os.getcwd(), 'src', 'key.properties')\n",
    "key=src.mylib.getKey(keyPath)\n",
    "print key\n",
    "KEY=str(key['dataseoul'])\n",
    "TYPE='xml'\n",
    "SERVICE='ListTaxiDrivingDataset'\n",
    "START_INDEX=str(1)\n",
    "END_INDEX=str(100)\n",
    "X_PART=str(126.954904)\n",
    "Y_PART=str(37.601767)\n",
    "DAY=str(2)\n",
    "TIME=str(21)\n",
    "WEATHER=str(1)\n",
    "\n",
    "params=KEY+'/'+TYPE+'/'+SERVICE+'/'+START_INDEX+'/'+END_INDEX+'/'+X_PART+'/'+Y_PART+'/'+DAY+'/'+TIME+'/'+WEATHER\n",
    "print params[31:]\n",
    "print params\n"
   ]
  },
  {
   "cell_type": "code",
   "execution_count": 173,
   "metadata": {
    "collapsed": false
   },
   "outputs": [
    {
     "name": "stdout",
     "output_type": "stream",
     "text": [
      "http://openAPI.seoul.go.kr:8088/5a61567861646d73343375764d626f/xml/ListTaxiDrivingDataset/1/100/126.954904/37.601767/2/21/1\n",
      "<Response [200]>\n"
     ]
    }
   ],
   "source": [
    "import urlparse\n",
    "import json\n",
    "_url = 'http://openAPI.seoul.go.kr:8088/'\n",
    "url=urlparse.urljoin(_url, params)\n",
    "print url\n",
    "import requests\n",
    "data=requests.get(url)\n",
    "print type(data\n",
    "\n",
    "\n",
    "#data=requests.get(url).text\n",
    "#print data[:600]\n"
   ]
  },
  {
   "cell_type": "code",
   "execution_count": 175,
   "metadata": {
    "collapsed": false
   },
   "outputs": [
    {
     "name": "stdout",
     "output_type": "stream",
     "text": [
      "<_sre.SRE_Pattern object at 0x0000000006E634B0>\n"
     ]
    }
   ],
   "source": [
    "import re\n",
    "p = re.compile('<CNT_OFF>(.+?)</CNT_OFF>')\n",
    "print p\n",
    "#res=p.findall(data)\n",
    "#print res\n",
    "#sum=0\n",
    "#for item in res:\n",
    "#    sum = sum+int(item)\n",
    "#    print item, type(item)\n",
    "#print sum"
   ]
  },
  {
   "cell_type": "code",
   "execution_count": 171,
   "metadata": {
    "collapsed": false,
    "scrolled": true
   },
   "outputs": [
    {
     "name": "stdout",
     "output_type": "stream",
     "text": [
      "{'dataseoul': '5a61567861646d73343375764d626f', 'gokr': 'brOVF7Bb7pkN%2BUg640BlylpMnEcjZMPdbHKUJdFEnZERF7bkrgWNheP1sn6JH2gzbuT4uFsz06KU2ym7Y8TfZA%3D%3D'}\n",
      "xml/ListTaxiDrivingDataset/1/100/126.954904/37.601767/2/21/-1\n",
      "-1\n",
      "7 <type 'unicode'>\n",
      "0 <type 'unicode'>\n",
      "248 <type 'unicode'>\n",
      "0 <type 'unicode'>\n",
      "0 <type 'unicode'>\n",
      "0 <type 'unicode'>\n",
      "15 <type 'unicode'>\n",
      "0 <type 'unicode'>\n",
      "1 <type 'unicode'>\n",
      "271\n",
      "xml/ListTaxiDrivingDataset/1/100/126.954904/37.601767/2/21/1\n",
      "1\n",
      "0 <type 'unicode'>\n",
      "25 <type 'unicode'>\n",
      "0 <type 'unicode'>\n",
      "0 <type 'unicode'>\n",
      "0 <type 'unicode'>\n",
      "0 <type 'unicode'>\n",
      "724 <type 'unicode'>\n",
      "0 <type 'unicode'>\n",
      "35 <type 'unicode'>\n",
      "0 <type 'unicode'>\n",
      "0 <type 'unicode'>\n",
      "0 <type 'unicode'>\n",
      "2 <type 'unicode'>\n",
      "786\n",
      "xml/ListTaxiDrivingDataset/1/100/126.954904/37.601767/2/21/2\n",
      "2\n",
      "1 <type 'unicode'>\n",
      "14 <type 'unicode'>\n",
      "0 <type 'unicode'>\n",
      "0 <type 'unicode'>\n",
      "15\n",
      "xml/ListTaxiDrivingDataset/1/100/126.954904/37.601767/2/21/3\n",
      "3\n",
      "0\n",
      "1072\n"
     ]
    }
   ],
   "source": [
    "import os\n",
    "import src.mylib\n",
    "\n",
    "keyPath=os.path.join(os.getcwd(), 'src', 'key.properties')\n",
    "key=src.mylib.getKey(keyPath)\n",
    "print key\n",
    "KEY=str(key['dataseoul'])\n",
    "TYPE='xml'\n",
    "SERVICE='ListTaxiDrivingDataset'\n",
    "START_INDEX=str(1)\n",
    "END_INDEX=str(100)\n",
    "X_PART=str(126.954904)\n",
    "Y_PART=str(37.601767)\n",
    "DAY=str(2)\n",
    "TIME=str(21)\n",
    "\n",
    "final = 0\n",
    "for i in (-1,1,2,3):\n",
    "    WEATHER=str(i)\n",
    "\n",
    "    params=KEY+'/'+TYPE+'/'+SERVICE+'/'+START_INDEX+'/'+END_INDEX+'/'+X_PART+'/'+Y_PART+'/'+DAY+'/'+TIME+'/'+WEATHER\n",
    "    print params[31:]\n",
    "    import urlparse\n",
    "    _url = 'http://openAPI.seoul.go.kr:8088/'\n",
    "    url=urlparse.urljoin(_url, params)\n",
    "\n",
    "    import requests\n",
    "    data=requests.get(url).text\n",
    "    import re\n",
    "    p = re.compile('<CNT_OFF>(.+?)</CNT_OFF>')\n",
    "    res=p.findall(data)\n",
    "    sum=0\n",
    "    print i\n",
    "    for item in res:\n",
    "        sum +=int(item)\n",
    "        print item, type(item)\n",
    "    print sum\n",
    "    final += sum\n",
    "print final"
   ]
  },
  {
   "cell_type": "code",
   "execution_count": 134,
   "metadata": {
    "collapsed": false,
    "scrolled": false
   },
   "outputs": [
    {
     "name": "stdout",
     "output_type": "stream",
     "text": [
      "Overwriting src/project/project_taxi_at_SangMyung.py\n"
     ]
    }
   ],
   "source": [
    "%%writefile src/project/project_taxi_at_SangMyung.py\n",
    "# coding: utf-8\n",
    "import os\n",
    "import mylib_cmd\n",
    "import urlparse\n",
    "import requests\n",
    "import re\n",
    "\n",
    "keyPath=os.path.join(os.getcwd(),'key.properties')\n",
    "key=mylib_cmd.getKey(keyPath)\n",
    "KEY=str(key['dataseoul'])\n",
    "TYPE='xml'\n",
    "SERVICE='ListTaxiDrivingDataset'\n",
    "START_INDEX=str(1)\n",
    "END_INDEX=str(100)\n",
    "X_PART=str(126.954904)\n",
    "Y_PART=str(37.601767)\n",
    "\n",
    "print u'<요일별 택시 최대 하차 시간 및 횟수 at 상명대>'\n",
    "print '-------------------------------------------------------------------------------------------'\n",
    "uday=[u'월',u'화',u'수',u'목',u'금']\n",
    "day = 2\n",
    "while day<=6 :\n",
    "    DAY = str(day)\n",
    "    lst=[]\n",
    "    max=0\n",
    "    for time in range(17,41):\n",
    "        TIME=str(time)\n",
    "        final=0\n",
    "        for w in (-1, 1, 2, 3):\n",
    "            WEATHER=str(w)\n",
    "            params=KEY+'/'+TYPE+'/'+SERVICE+'/'+START_INDEX+'/'+END_INDEX+'/'+X_PART+'/'+Y_PART+'/'+DAY+'/'+TIME+'/'+WEATHER\n",
    "\n",
    "            _url = 'http://openAPI.seoul.go.kr:8088/'\n",
    "            url=urlparse.urljoin(_url, params)\n",
    "\n",
    "            data=requests.get(url).text\n",
    "            p = re.compile('<CNT_OFF>(.+?)</CNT_OFF>')\n",
    "            res=p.findall(data)\n",
    "            sum=0\n",
    "            for item in res:\n",
    "                sum +=int(item)\n",
    "            final += sum \n",
    "        lst.append(final)\n",
    "        #print day, time,final\n",
    "        if(max < lst[time-17]):\n",
    "            max = lst[time-17]\n",
    "            maxtime=time\n",
    "    if (maxtime%2 == 1):\n",
    "        realtime=maxtime/2\n",
    "        print uday[day-2],u'요일, 최대하차시간은',realtime,u'시 30분부터', realtime+1, u'시까지이며 1년간 총',max,u'번 하차했습니다.'\n",
    "        print '-------------------------------------------------------------------------------------------'\n",
    "    else :\n",
    "        realtime=maxtime/2\n",
    "        print uday[day-2],u'요일, 최대하차시간은',realtime,u'시부터', realtime, u'시 30분까지까지이며 1년간 총',max,u'번 하차했습니다.'\n",
    "        print '-------------------------------------------------------------------------------------------'\n",
    "    #print 'final',day,maxtime , max\n",
    "    day += 1\n",
    "    \n",
    "\n"
   ]
  },
  {
   "cell_type": "code",
   "execution_count": 136,
   "metadata": {
    "collapsed": false
   },
   "outputs": [
    {
     "name": "stdout",
     "output_type": "stream",
     "text": [
      "택시 최대 하차 현황 at 상명대\n",
      "2 17 463\n",
      "2 18 347\n",
      "2 19 450\n",
      "2 20 365\n",
      "2 21 1072\n",
      "2 22 387\n",
      "2 23 872\n",
      "2 24 260\n",
      "2 25 430\n",
      "2 26 205\n",
      "2 27 221\n",
      "2 28 126\n",
      "2 29 370\n",
      "2 30 122\n",
      "2 31 103\n",
      "2 32 66\n",
      "2 33 79\n",
      "2 34 69\n",
      "2 35 54\n",
      "2 36 55\n",
      "2 37 57\n",
      "2 38 53\n",
      "2 39 36\n",
      "2 40 16\n",
      "월 요일, 최대하차시간은 10 시 30분부터 11 시까지이며 1년간 총 1072 대가 하차했습니다.\n",
      "final 2 21 1072\n",
      "3 17 450\n",
      "3 18 350\n",
      "3 19 704\n",
      "3 20 478\n",
      "3 21 1714\n",
      "3 22 606\n",
      "3 23 322\n",
      "3 24 212\n",
      "3 25 464\n",
      "3 26 212\n",
      "3 27 225\n",
      "3 28 166\n",
      "3 29 366\n",
      "3 30 147\n",
      "3 31 112\n",
      "3 32 76\n",
      "3 33 101\n",
      "3 34 66\n",
      "3 35 87\n",
      "3 36 61\n",
      "3 37 53\n",
      "3 38 61\n",
      "3 39 34\n",
      "3 40 32\n",
      "화 요일, 최대하차시간은 10 시 30분부터 11 시까지이며 1년간 총 1714 대가 하차했습니다.\n",
      "final 3 21 1714\n",
      "4 17 451\n",
      "4 18 323\n",
      "4 19 585\n",
      "4 20 376\n",
      "4 21 1233\n",
      "4 22 408\n",
      "4 23 261\n",
      "4 24 192\n",
      "4 25 511\n",
      "4 26 221\n",
      "4 27 228\n",
      "4 28 177\n",
      "4 29 284\n",
      "4 30 147\n",
      "4 31 114\n",
      "4 32 113\n",
      "4 33 98\n",
      "4 34 64\n",
      "4 35 73\n",
      "4 36 58\n",
      "4 37 45\n",
      "4 38 61\n",
      "4 39 44\n",
      "4 40 24\n",
      "수 요일, 최대하차시간은 10 시 30분부터 11 시까지이며 1년간 총 1233 대가 하차했습니다.\n",
      "final 4 21 1233\n",
      "5 17 476\n",
      "5 18 331\n",
      "5 19 478\n",
      "5 20 382\n",
      "5 21 1552\n",
      "5 22 537\n",
      "5 23 330\n",
      "5 24 214\n",
      "5 25 463\n",
      "5 26 190\n",
      "5 27 308\n",
      "5 28 169\n",
      "5 29 353\n",
      "5 30 144\n",
      "5 31 135\n",
      "5 32 85\n",
      "5 33 82\n",
      "5 34 69\n",
      "5 35 93\n",
      "5 36 72\n",
      "5 37 55\n",
      "5 38 60\n",
      "5 39 54\n",
      "5 40 29\n",
      "목 요일, 최대하차시간은 10 시 30분부터 11 시까지이며 1년간 총 1552 대가 하차했습니다.\n",
      "final 5 21 1552\n",
      "6 17 714\n",
      "6 18 457\n",
      "6 19 367\n",
      "6 20 268\n",
      "6 21 634\n",
      "6 22 240\n",
      "6 23 395\n",
      "6 24 253\n",
      "6 25 396\n",
      "6 26 238\n",
      "6 27 222\n",
      "6 28 143\n",
      "6 29 171\n",
      "6 30 99\n",
      "6 31 84\n",
      "6 32 73\n",
      "6 33 83\n",
      "6 34 76\n",
      "6 35 51\n",
      "6 36 46\n",
      "6 37 54\n",
      "6 38 73\n",
      "6 39 42\n",
      "6 40 31\n",
      "금 요일, 최대하차시간은 8 시 30분부터 9 시까지이며 1년간 총 714 대가 하차했습니다.\n",
      "final 6 17 714\n"
     ]
    }
   ],
   "source": [
    "# coding: utf-8\n",
    "import os\n",
    "import src.mylib\n",
    "import urlparse\n",
    "import requests\n",
    "import re\n",
    "import pymongo\n",
    "from pymongo import MongoClient\n",
    "\n",
    "Client = MongoClient('localhost:27017')\n",
    "_db=Client['project_taxiDb']\n",
    "_table=_db['project_taxiTable']\n",
    "\n",
    "def dic(d, t, num):\n",
    "    mydict = dict()\n",
    "    mydict[day] = d\n",
    "    mydict[time] = t\n",
    "    mydict[number] = num\n",
    "\n",
    "print u'택시 최대 하차 현황 at 상명대'\n",
    "\n",
    "keyPath=os.path.join(os.getcwd(),'src','key.properties')\n",
    "key=src.mylib.getKey(keyPath)\n",
    "KEY=str(key['dataseoul'])\n",
    "TYPE='xml'\n",
    "SERVICE='ListTaxiDrivingDataset'\n",
    "START_INDEX=str(1)\n",
    "END_INDEX=str(100)\n",
    "X_PART=str(126.954904)\n",
    "Y_PART=str(37.601767)\n",
    "\n",
    "\n",
    "uday=[u'월',u'화',u'수',u'목',u'금']\n",
    "day = 2\n",
    "while day<=6 :\n",
    "    DAY = str(day)\n",
    "    lst=[]\n",
    "    max=0\n",
    "    for time in range(17,41):\n",
    "        TIME=str(time)\n",
    "        final=0\n",
    "        for w in (-1, 1, 2, 3):\n",
    "            WEATHER=str(w)\n",
    "            params=KEY+'/'+TYPE+'/'+SERVICE+'/'+START_INDEX+'/'+END_INDEX+'/'+X_PART+'/'+Y_PART+'/'+DAY+'/'+TIME+'/'+WEATHER\n",
    "\n",
    "            _url = 'http://openAPI.seoul.go.kr:8088/'\n",
    "            url=urlparse.urljoin(_url, params)\n",
    "\n",
    "            data=requests.get(url).text\n",
    "            p = re.compile('<CNT_OFF>(.+?)</CNT_OFF>')\n",
    "            res=p.findall(data)\n",
    "            sum=0\n",
    "            for item in res:\n",
    "                sum +=int(item)\n",
    "            final += sum \n",
    "        lst.append(final)\n",
    "        print day, time,final\n",
    "        if(max < lst[time-17]):\n",
    "            max = lst[time-17]\n",
    "            maxtime=time\n",
    "    if (maxtime%2 == 1):\n",
    "        realtime=maxtime/2\n",
    "        print uday[day-2],u'요일, 최대하차시간은',realtime,u'시 30분부터', realtime+1, u'시까지이며 1년간 총',max,u'대가 하차했습니다.'\n",
    "    else :\n",
    "        realtime=maxtime/2\n",
    "        print uday[day-2],u'요일, 최대하차시간은',realtime,u'시부터', realtime, u'시 30분까지까지이며 1년간 총',max,u'대가 하차했습니다.'\n",
    "    print 'final',day,maxtime , max\n",
    "    day += 1\n",
    "    \n",
    "\n"
   ]
  },
  {
   "cell_type": "code",
   "execution_count": 118,
   "metadata": {
    "collapsed": false
   },
   "outputs": [
    {
     "name": "stdout",
     "output_type": "stream",
     "text": [
      "Overwriting src/now.py\n"
     ]
    }
   ],
   "source": [
    "%%writefile src/now.py\n",
    "import os\n",
    "import mylib_cmd\n",
    "import urlparse\n",
    "import requests\n",
    "import re\n",
    "\n",
    "keyPath=os.path.join(os.getcwd(),'key.properties')\n",
    "key=mylib_cmd.getKey(keyPath)\n",
    "KEY=str(key['dataseoul'])\n",
    "print keyPath\n",
    "print key\n",
    "print KEY\n"
   ]
  },
  {
   "cell_type": "code",
   "execution_count": 152,
   "metadata": {
    "collapsed": false
   },
   "outputs": [
    {
     "data": {
      "text/plain": [
       "<pymongo.results.InsertOneResult at 0x759d2d0>"
      ]
     },
     "execution_count": 152,
     "metadata": {},
     "output_type": "execute_result"
    }
   ],
   "source": [
    "import pymongo\n",
    "from pymongo import MongoClient\n",
    "client = MongoClient()\n",
    "db=client.myMidDB\n",
    "_table=db['SangMyung_person']\n",
    "\n",
    "_id='201511079'\n",
    "_name='KangEunda'\n",
    "_age=22\n",
    "_country='ko'\n",
    "if in _table:\n",
    "    \n",
    "_table.insert_one({\n",
    "    \"id\":_id,\n",
    "    \"name\":_name,\n",
    "    \"age\":_age,\n",
    "    \"country\":_country\n",
    "}\n",
    ")"
   ]
  }
 ],
 "metadata": {
  "kernelspec": {
   "display_name": "Python 2",
   "language": "python",
   "name": "python2"
  },
  "language_info": {
   "codemirror_mode": {
    "name": "ipython",
    "version": 2
   },
   "file_extension": ".py",
   "mimetype": "text/x-python",
   "name": "python",
   "nbconvert_exporter": "python",
   "pygments_lexer": "ipython2",
   "version": "2.7.13"
  }
 },
 "nbformat": 4,
 "nbformat_minor": 2
}
